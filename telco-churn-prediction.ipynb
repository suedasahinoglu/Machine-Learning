{
 "cells": [
  {
   "cell_type": "markdown",
   "id": "8d5e8701",
   "metadata": {
    "papermill": {
     "duration": 0.015631,
     "end_time": "2024-10-30T16:30:55.372480",
     "exception": false,
     "start_time": "2024-10-30T16:30:55.356849",
     "status": "completed"
    },
    "tags": []
   },
   "source": [
    "# **Telco Customer Churn Prediction**"
   ]
  },
  {
   "cell_type": "markdown",
   "id": "32fd42ac",
   "metadata": {
    "papermill": {
     "duration": 0.015932,
     "end_time": "2024-10-30T16:30:55.402895",
     "exception": false,
     "start_time": "2024-10-30T16:30:55.386963",
     "status": "completed"
    },
    "tags": []
   },
   "source": [
    "# <span style=\"color:#2D7680\"> Table of Contents </span>\n",
    "\n",
    "[<span style=\"color:#2D7680\">   1. Examine the Dataset  </span>](#Exa)\n",
    "\n",
    "[<span style=\"color:#2D7680\">   2. Data Preparation  </span>](#Dat)\n",
    "\n",
    "[<span style=\"color:#2D7680\">   3. Feature Engineering  </span>](#Fea)\n",
    "\n",
    "[<span style=\"color:#2D7680\">   4. Modelling  </span>](#Mod)"
   ]
  },
  {
   "cell_type": "markdown",
   "id": "864b2784",
   "metadata": {
    "papermill": {
     "duration": 0.013761,
     "end_time": "2024-10-30T16:30:55.430905",
     "exception": false,
     "start_time": "2024-10-30T16:30:55.417144",
     "status": "completed"
    },
    "tags": []
   },
   "source": [
    "##  <span style=\"color:#2D7680\"> 1. Examine the Dataset </span> <a class=\"anchor\" id=\"Exa\"></a> "
   ]
  },
  {
   "cell_type": "markdown",
   "id": "5f03d41b",
   "metadata": {
    "papermill": {
     "duration": 0.014024,
     "end_time": "2024-10-30T16:30:55.461936",
     "exception": false,
     "start_time": "2024-10-30T16:30:55.447912",
     "status": "completed"
    },
    "tags": []
   },
   "source": [
    "Telco churn data revealed fictitious home phone and Internet services to 7,043 California customers in the third quarter.\n",
    "Contains information about a telecom company. Which customers have left, stayed or signed up for their service\n",
    "shows.\n",
    "\n",
    "**CustomerId**\n",
    "\n",
    "**Gender**\n",
    "\n",
    "**SeniorCitizen:** Whether the client is older (1, 0)\n",
    "\n",
    "**Partner:** Whether the client has a partner (Yes, No)\n",
    "\n",
    "**Dependents:** Whether the customer has dependents (Yes, No\n",
    "\n",
    "**Tenure:** The number of months the customer has stayed with the company\n",
    "\n",
    "**PhoneService:** Whether the customer has phone service (Yes, No)\n",
    "\n",
    "**MultipleLines:** Whether the customer has more than one line (Yes, No, No Telephone service)\n",
    "\n",
    "**InternetService:** Customer's internet service provider (DSL, Fiber optic, No)\n",
    "\n",
    "**OnlineSecurity:** Whether the customer has online security (Yes, No, no Internet service)\n",
    "\n",
    "**OnlineBackup:** Whether the customer has an online backup (Yes, No, no Internet service)\n",
    "\n",
    "**DeviceProtection:** Whether the customer has device protection (Yes, No, no Internet service)\n",
    "\n",
    "**TechSupport:** Whether the customer has technical support (Yes, No, no Internet service)\n",
    "\n",
    "**StreamingTV:** Whether the customer has TV streaming (Yes, No, no Internet service)\n",
    "\n",
    "**StreamingMovies:** Whether the customer is streaming movies (Yes, No, no Internet service)\n",
    "\n",
    "**Contract:** Customer's contract duration (Month to month, One year, Two years)\n",
    "\n",
    "**PaperlessBilling:** Whether the customer has a paperless invoice (Yes, No)\n",
    "\n",
    "**PaymentMethod:** Customer's payment method (Electronic check, Postal check, Bank transfer (automatic), Credit card (automatic))\n",
    "\n",
    "**MonthlyCharges:** The amount charged to the customer monthly\n",
    "\n",
    "**TotalCharges:** The total amount charged from the customer\n",
    "\n",
    "**Churn:** Whether the customer uses it (Yes or No)"
   ]
  },
  {
   "cell_type": "markdown",
   "id": "f2d2c8a0",
   "metadata": {
    "papermill": {
     "duration": 0.013954,
     "end_time": "2024-10-30T16:30:55.490619",
     "exception": false,
     "start_time": "2024-10-30T16:30:55.476665",
     "status": "completed"
    },
    "tags": []
   },
   "source": [
    "\n",
    "##  <span style=\"color:#2D7680\"> 2. Data Preparation </span> <a class=\"anchor\" id=\"Dat\"></a> "
   ]
  },
  {
   "cell_type": "code",
   "execution_count": 1,
   "id": "17d94a80",
   "metadata": {
    "_cell_guid": "b1076dfc-b9ad-4769-8c92-a6c4dae69d19",
    "_uuid": "8f2839f25d086af736a60e9eeb907d3b93b6e0e5",
    "execution": {
     "iopub.execute_input": "2024-10-30T16:30:55.521749Z",
     "iopub.status.busy": "2024-10-30T16:30:55.521271Z",
     "iopub.status.idle": "2024-10-30T16:30:59.960597Z",
     "shell.execute_reply": "2024-10-30T16:30:59.959252Z"
    },
    "papermill": {
     "duration": 4.458327,
     "end_time": "2024-10-30T16:30:59.963860",
     "exception": false,
     "start_time": "2024-10-30T16:30:55.505533",
     "status": "completed"
    },
    "tags": []
   },
   "outputs": [],
   "source": [
    "import pandas as pd\n",
    "import numpy as np\n",
    "from sklearn.preprocessing import MinMaxScaler, LabelEncoder, StandardScaler, RobustScaler\n",
    "from sklearn.ensemble import RandomForestClassifier, GradientBoostingClassifier\n",
    "from sklearn.linear_model import LogisticRegression\n",
    "from sklearn.neighbors import KNeighborsClassifier\n",
    "from sklearn.tree import DecisionTreeClassifier\n",
    "from sklearn.model_selection import train_test_split, GridSearchCV, cross_validate, validation_curve\n",
    "from sklearn.metrics import precision_score, f1_score, recall_score, roc_auc_score, accuracy_score\n",
    "from xgboost import XGBClassifier\n",
    "from lightgbm import LGBMClassifier\n",
    "from catboost import CatBoostClassifier\n",
    "pd.set_option(\"display.max_columns\", None)\n",
    "pd.set_option(\"display.float_format\", lambda x: \"%.3f\" % x)\n",
    "pd.set_option(\"display.width\", 500)\n",
    "import warnings\n",
    "warnings.simplefilter(action=\"ignore\")"
   ]
  },
  {
   "cell_type": "code",
   "execution_count": 2,
   "id": "bd202a20",
   "metadata": {
    "execution": {
     "iopub.execute_input": "2024-10-30T16:30:59.996477Z",
     "iopub.status.busy": "2024-10-30T16:30:59.994619Z",
     "iopub.status.idle": "2024-10-30T16:31:00.085923Z",
     "shell.execute_reply": "2024-10-30T16:31:00.084329Z"
    },
    "papermill": {
     "duration": 0.110589,
     "end_time": "2024-10-30T16:31:00.089301",
     "exception": false,
     "start_time": "2024-10-30T16:30:59.978712",
     "status": "completed"
    },
    "tags": []
   },
   "outputs": [],
   "source": [
    "df = pd.read_csv(\"/kaggle/input/telco-churn/Telco-Customer-Churn.csv\")"
   ]
  },
  {
   "cell_type": "code",
   "execution_count": 3,
   "id": "78918b57",
   "metadata": {
    "execution": {
     "iopub.execute_input": "2024-10-30T16:31:00.120450Z",
     "iopub.status.busy": "2024-10-30T16:31:00.119892Z",
     "iopub.status.idle": "2024-10-30T16:31:00.155001Z",
     "shell.execute_reply": "2024-10-30T16:31:00.153431Z"
    },
    "papermill": {
     "duration": 0.054713,
     "end_time": "2024-10-30T16:31:00.158399",
     "exception": false,
     "start_time": "2024-10-30T16:31:00.103686",
     "status": "completed"
    },
    "tags": []
   },
   "outputs": [
    {
     "data": {
      "text/html": [
       "<div>\n",
       "<style scoped>\n",
       "    .dataframe tbody tr th:only-of-type {\n",
       "        vertical-align: middle;\n",
       "    }\n",
       "\n",
       "    .dataframe tbody tr th {\n",
       "        vertical-align: top;\n",
       "    }\n",
       "\n",
       "    .dataframe thead th {\n",
       "        text-align: right;\n",
       "    }\n",
       "</style>\n",
       "<table border=\"1\" class=\"dataframe\">\n",
       "  <thead>\n",
       "    <tr style=\"text-align: right;\">\n",
       "      <th></th>\n",
       "      <th>customerID</th>\n",
       "      <th>gender</th>\n",
       "      <th>SeniorCitizen</th>\n",
       "      <th>Partner</th>\n",
       "      <th>Dependents</th>\n",
       "      <th>tenure</th>\n",
       "      <th>PhoneService</th>\n",
       "      <th>MultipleLines</th>\n",
       "      <th>InternetService</th>\n",
       "      <th>OnlineSecurity</th>\n",
       "      <th>OnlineBackup</th>\n",
       "      <th>DeviceProtection</th>\n",
       "      <th>TechSupport</th>\n",
       "      <th>StreamingTV</th>\n",
       "      <th>StreamingMovies</th>\n",
       "      <th>Contract</th>\n",
       "      <th>PaperlessBilling</th>\n",
       "      <th>PaymentMethod</th>\n",
       "      <th>MonthlyCharges</th>\n",
       "      <th>TotalCharges</th>\n",
       "      <th>Churn</th>\n",
       "    </tr>\n",
       "  </thead>\n",
       "  <tbody>\n",
       "    <tr>\n",
       "      <th>0</th>\n",
       "      <td>7590-VHVEG</td>\n",
       "      <td>Female</td>\n",
       "      <td>0</td>\n",
       "      <td>Yes</td>\n",
       "      <td>No</td>\n",
       "      <td>1</td>\n",
       "      <td>No</td>\n",
       "      <td>No phone service</td>\n",
       "      <td>DSL</td>\n",
       "      <td>No</td>\n",
       "      <td>Yes</td>\n",
       "      <td>No</td>\n",
       "      <td>No</td>\n",
       "      <td>No</td>\n",
       "      <td>No</td>\n",
       "      <td>Month-to-month</td>\n",
       "      <td>Yes</td>\n",
       "      <td>Electronic check</td>\n",
       "      <td>29.850</td>\n",
       "      <td>29.85</td>\n",
       "      <td>No</td>\n",
       "    </tr>\n",
       "    <tr>\n",
       "      <th>1</th>\n",
       "      <td>5575-GNVDE</td>\n",
       "      <td>Male</td>\n",
       "      <td>0</td>\n",
       "      <td>No</td>\n",
       "      <td>No</td>\n",
       "      <td>34</td>\n",
       "      <td>Yes</td>\n",
       "      <td>No</td>\n",
       "      <td>DSL</td>\n",
       "      <td>Yes</td>\n",
       "      <td>No</td>\n",
       "      <td>Yes</td>\n",
       "      <td>No</td>\n",
       "      <td>No</td>\n",
       "      <td>No</td>\n",
       "      <td>One year</td>\n",
       "      <td>No</td>\n",
       "      <td>Mailed check</td>\n",
       "      <td>56.950</td>\n",
       "      <td>1889.5</td>\n",
       "      <td>No</td>\n",
       "    </tr>\n",
       "    <tr>\n",
       "      <th>2</th>\n",
       "      <td>3668-QPYBK</td>\n",
       "      <td>Male</td>\n",
       "      <td>0</td>\n",
       "      <td>No</td>\n",
       "      <td>No</td>\n",
       "      <td>2</td>\n",
       "      <td>Yes</td>\n",
       "      <td>No</td>\n",
       "      <td>DSL</td>\n",
       "      <td>Yes</td>\n",
       "      <td>Yes</td>\n",
       "      <td>No</td>\n",
       "      <td>No</td>\n",
       "      <td>No</td>\n",
       "      <td>No</td>\n",
       "      <td>Month-to-month</td>\n",
       "      <td>Yes</td>\n",
       "      <td>Mailed check</td>\n",
       "      <td>53.850</td>\n",
       "      <td>108.15</td>\n",
       "      <td>Yes</td>\n",
       "    </tr>\n",
       "    <tr>\n",
       "      <th>3</th>\n",
       "      <td>7795-CFOCW</td>\n",
       "      <td>Male</td>\n",
       "      <td>0</td>\n",
       "      <td>No</td>\n",
       "      <td>No</td>\n",
       "      <td>45</td>\n",
       "      <td>No</td>\n",
       "      <td>No phone service</td>\n",
       "      <td>DSL</td>\n",
       "      <td>Yes</td>\n",
       "      <td>No</td>\n",
       "      <td>Yes</td>\n",
       "      <td>Yes</td>\n",
       "      <td>No</td>\n",
       "      <td>No</td>\n",
       "      <td>One year</td>\n",
       "      <td>No</td>\n",
       "      <td>Bank transfer (automatic)</td>\n",
       "      <td>42.300</td>\n",
       "      <td>1840.75</td>\n",
       "      <td>No</td>\n",
       "    </tr>\n",
       "    <tr>\n",
       "      <th>4</th>\n",
       "      <td>9237-HQITU</td>\n",
       "      <td>Female</td>\n",
       "      <td>0</td>\n",
       "      <td>No</td>\n",
       "      <td>No</td>\n",
       "      <td>2</td>\n",
       "      <td>Yes</td>\n",
       "      <td>No</td>\n",
       "      <td>Fiber optic</td>\n",
       "      <td>No</td>\n",
       "      <td>No</td>\n",
       "      <td>No</td>\n",
       "      <td>No</td>\n",
       "      <td>No</td>\n",
       "      <td>No</td>\n",
       "      <td>Month-to-month</td>\n",
       "      <td>Yes</td>\n",
       "      <td>Electronic check</td>\n",
       "      <td>70.700</td>\n",
       "      <td>151.65</td>\n",
       "      <td>Yes</td>\n",
       "    </tr>\n",
       "  </tbody>\n",
       "</table>\n",
       "</div>"
      ],
      "text/plain": [
       "   customerID  gender  SeniorCitizen Partner Dependents  tenure PhoneService     MultipleLines InternetService OnlineSecurity OnlineBackup DeviceProtection TechSupport StreamingTV StreamingMovies        Contract PaperlessBilling              PaymentMethod  MonthlyCharges TotalCharges Churn\n",
       "0  7590-VHVEG  Female              0     Yes         No       1           No  No phone service             DSL             No          Yes               No          No          No              No  Month-to-month              Yes           Electronic check          29.850        29.85    No\n",
       "1  5575-GNVDE    Male              0      No         No      34          Yes                No             DSL            Yes           No              Yes          No          No              No        One year               No               Mailed check          56.950       1889.5    No\n",
       "2  3668-QPYBK    Male              0      No         No       2          Yes                No             DSL            Yes          Yes               No          No          No              No  Month-to-month              Yes               Mailed check          53.850       108.15   Yes\n",
       "3  7795-CFOCW    Male              0      No         No      45           No  No phone service             DSL            Yes           No              Yes         Yes          No              No        One year               No  Bank transfer (automatic)          42.300      1840.75    No\n",
       "4  9237-HQITU  Female              0      No         No       2          Yes                No     Fiber optic             No           No               No          No          No              No  Month-to-month              Yes           Electronic check          70.700       151.65   Yes"
      ]
     },
     "execution_count": 3,
     "metadata": {},
     "output_type": "execute_result"
    }
   ],
   "source": [
    "df.head()"
   ]
  },
  {
   "cell_type": "code",
   "execution_count": 4,
   "id": "da058a1f",
   "metadata": {
    "execution": {
     "iopub.execute_input": "2024-10-30T16:31:00.189928Z",
     "iopub.status.busy": "2024-10-30T16:31:00.189243Z",
     "iopub.status.idle": "2024-10-30T16:31:00.199465Z",
     "shell.execute_reply": "2024-10-30T16:31:00.197811Z"
    },
    "papermill": {
     "duration": 0.029039,
     "end_time": "2024-10-30T16:31:00.202156",
     "exception": false,
     "start_time": "2024-10-30T16:31:00.173117",
     "status": "completed"
    },
    "tags": []
   },
   "outputs": [
    {
     "data": {
      "text/plain": [
       "(7043, 21)"
      ]
     },
     "execution_count": 4,
     "metadata": {},
     "output_type": "execute_result"
    }
   ],
   "source": [
    "df.shape"
   ]
  },
  {
   "cell_type": "code",
   "execution_count": 5,
   "id": "86c6ddde",
   "metadata": {
    "execution": {
     "iopub.execute_input": "2024-10-30T16:31:00.233224Z",
     "iopub.status.busy": "2024-10-30T16:31:00.232174Z",
     "iopub.status.idle": "2024-10-30T16:31:00.244211Z",
     "shell.execute_reply": "2024-10-30T16:31:00.243107Z"
    },
    "papermill": {
     "duration": 0.030906,
     "end_time": "2024-10-30T16:31:00.247376",
     "exception": false,
     "start_time": "2024-10-30T16:31:00.216470",
     "status": "completed"
    },
    "tags": []
   },
   "outputs": [],
   "source": [
    "# Capture the numeric and categorical variables \n",
    "\n",
    "def grab_col_names(dataframe, cat_th=10, car_th=20):\n",
    "    \n",
    "    # cat_cols, cat_but_car\n",
    "    # 1- Categorical variables\n",
    "    cat_cols = [col for col in dataframe.columns if dataframe[col].dtypes == \"O\"]\n",
    "    \n",
    "    # 2- Numeric but actually categorical (class)\n",
    "    num_but_cat = [col for col in dataframe.columns if dataframe[col].nunique() < cat_th and\n",
    "                        dataframe[col].dtypes != \"O\"]\n",
    "    \n",
    "    # 3 - Categorical but actually each cardinal, that is, unique\n",
    "    cat_but_car = [col for col in dataframe.columns if dataframe[col].nunique() > car_th and\n",
    "                        dataframe[col].dtypes == \"O\"]\n",
    "    \n",
    "    # 4 - Collect the cat_cols and num_but_cat variables\n",
    "    cat_cols = cat_cols + num_but_cat\n",
    "    \n",
    "    # 5- Subtract the cardinal variable from cat_cols\n",
    "    cat_cols = [col for col in cat_cols if col not in cat_but_car]\n",
    "\n",
    "    # num_cols\n",
    "    num_cols = [col for col in dataframe.columns if dataframe[col].dtypes != \"O\"]\n",
    "    num_cols = [col for col in num_cols if col not in num_but_cat]\n",
    "\n",
    "    print(f\"Observations: {dataframe.shape[0]}\")\n",
    "    print(f\"Variables: {dataframe.shape[1]}\")\n",
    "    print(f'cat_cols: {len(cat_cols)}')\n",
    "    print(f'num_cols: {len(num_cols)}')\n",
    "    print(f'cat_but_car: {len(cat_but_car)}')\n",
    "    print(f'num_but_cat: {len(num_but_cat)}')\n",
    "    return cat_cols, num_cols, cat_but_car"
   ]
  },
  {
   "cell_type": "code",
   "execution_count": 6,
   "id": "a24e860d",
   "metadata": {
    "execution": {
     "iopub.execute_input": "2024-10-30T16:31:00.279173Z",
     "iopub.status.busy": "2024-10-30T16:31:00.278726Z",
     "iopub.status.idle": "2024-10-30T16:31:00.324286Z",
     "shell.execute_reply": "2024-10-30T16:31:00.323131Z"
    },
    "papermill": {
     "duration": 0.064836,
     "end_time": "2024-10-30T16:31:00.327428",
     "exception": false,
     "start_time": "2024-10-30T16:31:00.262592",
     "status": "completed"
    },
    "tags": []
   },
   "outputs": [
    {
     "name": "stdout",
     "output_type": "stream",
     "text": [
      "Observations: 7043\n",
      "Variables: 21\n",
      "cat_cols: 17\n",
      "num_cols: 2\n",
      "cat_but_car: 2\n",
      "num_but_cat: 1\n"
     ]
    }
   ],
   "source": [
    "cat_cols, num_cols, cat_but_car = grab_col_names(df)"
   ]
  },
  {
   "cell_type": "code",
   "execution_count": 7,
   "id": "50c680ea",
   "metadata": {
    "execution": {
     "iopub.execute_input": "2024-10-30T16:31:00.361579Z",
     "iopub.status.busy": "2024-10-30T16:31:00.360054Z",
     "iopub.status.idle": "2024-10-30T16:31:00.371156Z",
     "shell.execute_reply": "2024-10-30T16:31:00.369895Z"
    },
    "papermill": {
     "duration": 0.03138,
     "end_time": "2024-10-30T16:31:00.374007",
     "exception": false,
     "start_time": "2024-10-30T16:31:00.342627",
     "status": "completed"
    },
    "tags": []
   },
   "outputs": [
    {
     "data": {
      "text/plain": [
       "1"
      ]
     },
     "execution_count": 7,
     "metadata": {},
     "output_type": "execute_result"
    }
   ],
   "source": [
    "# Make the necessary adjustments. (Like variables with type errors) \n",
    "\n",
    "df[\"SeniorCitizen\"].max()"
   ]
  },
  {
   "cell_type": "code",
   "execution_count": 8,
   "id": "555ab450",
   "metadata": {
    "execution": {
     "iopub.execute_input": "2024-10-30T16:31:00.408197Z",
     "iopub.status.busy": "2024-10-30T16:31:00.407736Z",
     "iopub.status.idle": "2024-10-30T16:31:00.429962Z",
     "shell.execute_reply": "2024-10-30T16:31:00.428640Z"
    },
    "papermill": {
     "duration": 0.043243,
     "end_time": "2024-10-30T16:31:00.433289",
     "exception": false,
     "start_time": "2024-10-30T16:31:00.390046",
     "status": "completed"
    },
    "tags": []
   },
   "outputs": [
    {
     "data": {
      "text/plain": [
       "customerID           object\n",
       "gender               object\n",
       "SeniorCitizen        object\n",
       "Partner              object\n",
       "Dependents           object\n",
       "tenure                int64\n",
       "PhoneService         object\n",
       "MultipleLines        object\n",
       "InternetService      object\n",
       "OnlineSecurity       object\n",
       "OnlineBackup         object\n",
       "DeviceProtection     object\n",
       "TechSupport          object\n",
       "StreamingTV          object\n",
       "StreamingMovies      object\n",
       "Contract             object\n",
       "PaperlessBilling     object\n",
       "PaymentMethod        object\n",
       "MonthlyCharges      float64\n",
       "TotalCharges        float64\n",
       "Churn                object\n",
       "dtype: object"
      ]
     },
     "execution_count": 8,
     "metadata": {},
     "output_type": "execute_result"
    }
   ],
   "source": [
    "df.SeniorCitizen=df.SeniorCitizen.astype(\"object\")\n",
    "df.TotalCharges = pd.to_numeric(df.TotalCharges, errors='coerce')\n",
    "df.dtypes"
   ]
  },
  {
   "cell_type": "code",
   "execution_count": 9,
   "id": "da6e4495",
   "metadata": {
    "execution": {
     "iopub.execute_input": "2024-10-30T16:31:00.478407Z",
     "iopub.status.busy": "2024-10-30T16:31:00.477320Z",
     "iopub.status.idle": "2024-10-30T16:31:00.505660Z",
     "shell.execute_reply": "2024-10-30T16:31:00.504304Z"
    },
    "papermill": {
     "duration": 0.053798,
     "end_time": "2024-10-30T16:31:00.508390",
     "exception": false,
     "start_time": "2024-10-30T16:31:00.454592",
     "status": "completed"
    },
    "tags": []
   },
   "outputs": [
    {
     "data": {
      "text/plain": [
       "customerID           0\n",
       "gender               0\n",
       "SeniorCitizen        0\n",
       "Partner              0\n",
       "Dependents           0\n",
       "tenure               0\n",
       "PhoneService         0\n",
       "MultipleLines        0\n",
       "InternetService      0\n",
       "OnlineSecurity       0\n",
       "OnlineBackup         0\n",
       "DeviceProtection     0\n",
       "TechSupport          0\n",
       "StreamingTV          0\n",
       "StreamingMovies      0\n",
       "Contract             0\n",
       "PaperlessBilling     0\n",
       "PaymentMethod        0\n",
       "MonthlyCharges       0\n",
       "TotalCharges        11\n",
       "Churn                0\n",
       "dtype: int64"
      ]
     },
     "execution_count": 9,
     "metadata": {},
     "output_type": "execute_result"
    }
   ],
   "source": [
    "df.isnull().sum()"
   ]
  },
  {
   "cell_type": "code",
   "execution_count": 10,
   "id": "94c0d0c4",
   "metadata": {
    "execution": {
     "iopub.execute_input": "2024-10-30T16:31:00.541029Z",
     "iopub.status.busy": "2024-10-30T16:31:00.540558Z",
     "iopub.status.idle": "2024-10-30T16:31:00.621585Z",
     "shell.execute_reply": "2024-10-30T16:31:00.619824Z"
    },
    "papermill": {
     "duration": 0.101452,
     "end_time": "2024-10-30T16:31:00.625240",
     "exception": false,
     "start_time": "2024-10-30T16:31:00.523788",
     "status": "completed"
    },
    "tags": []
   },
   "outputs": [
    {
     "data": {
      "text/html": [
       "<div>\n",
       "<style scoped>\n",
       "    .dataframe tbody tr th:only-of-type {\n",
       "        vertical-align: middle;\n",
       "    }\n",
       "\n",
       "    .dataframe tbody tr th {\n",
       "        vertical-align: top;\n",
       "    }\n",
       "\n",
       "    .dataframe thead th {\n",
       "        text-align: right;\n",
       "    }\n",
       "</style>\n",
       "<table border=\"1\" class=\"dataframe\">\n",
       "  <thead>\n",
       "    <tr style=\"text-align: right;\">\n",
       "      <th></th>\n",
       "      <th>customerID</th>\n",
       "      <th>gender</th>\n",
       "      <th>SeniorCitizen</th>\n",
       "      <th>Partner</th>\n",
       "      <th>Dependents</th>\n",
       "      <th>tenure</th>\n",
       "      <th>PhoneService</th>\n",
       "      <th>MultipleLines</th>\n",
       "      <th>InternetService</th>\n",
       "      <th>OnlineSecurity</th>\n",
       "      <th>OnlineBackup</th>\n",
       "      <th>DeviceProtection</th>\n",
       "      <th>TechSupport</th>\n",
       "      <th>StreamingTV</th>\n",
       "      <th>StreamingMovies</th>\n",
       "      <th>Contract</th>\n",
       "      <th>PaperlessBilling</th>\n",
       "      <th>PaymentMethod</th>\n",
       "      <th>MonthlyCharges</th>\n",
       "      <th>TotalCharges</th>\n",
       "      <th>Churn</th>\n",
       "    </tr>\n",
       "  </thead>\n",
       "  <tbody>\n",
       "    <tr>\n",
       "      <th>0</th>\n",
       "      <td>7590-VHVEG</td>\n",
       "      <td>Female</td>\n",
       "      <td>0</td>\n",
       "      <td>Yes</td>\n",
       "      <td>No</td>\n",
       "      <td>1</td>\n",
       "      <td>No</td>\n",
       "      <td>No phone service</td>\n",
       "      <td>DSL</td>\n",
       "      <td>No</td>\n",
       "      <td>Yes</td>\n",
       "      <td>No</td>\n",
       "      <td>No</td>\n",
       "      <td>No</td>\n",
       "      <td>No</td>\n",
       "      <td>Month-to-month</td>\n",
       "      <td>Yes</td>\n",
       "      <td>Electronic check</td>\n",
       "      <td>29.850</td>\n",
       "      <td>29.850</td>\n",
       "      <td>0</td>\n",
       "    </tr>\n",
       "    <tr>\n",
       "      <th>1</th>\n",
       "      <td>5575-GNVDE</td>\n",
       "      <td>Male</td>\n",
       "      <td>0</td>\n",
       "      <td>No</td>\n",
       "      <td>No</td>\n",
       "      <td>34</td>\n",
       "      <td>Yes</td>\n",
       "      <td>No</td>\n",
       "      <td>DSL</td>\n",
       "      <td>Yes</td>\n",
       "      <td>No</td>\n",
       "      <td>Yes</td>\n",
       "      <td>No</td>\n",
       "      <td>No</td>\n",
       "      <td>No</td>\n",
       "      <td>One year</td>\n",
       "      <td>No</td>\n",
       "      <td>Mailed check</td>\n",
       "      <td>56.950</td>\n",
       "      <td>1889.500</td>\n",
       "      <td>0</td>\n",
       "    </tr>\n",
       "    <tr>\n",
       "      <th>2</th>\n",
       "      <td>3668-QPYBK</td>\n",
       "      <td>Male</td>\n",
       "      <td>0</td>\n",
       "      <td>No</td>\n",
       "      <td>No</td>\n",
       "      <td>2</td>\n",
       "      <td>Yes</td>\n",
       "      <td>No</td>\n",
       "      <td>DSL</td>\n",
       "      <td>Yes</td>\n",
       "      <td>Yes</td>\n",
       "      <td>No</td>\n",
       "      <td>No</td>\n",
       "      <td>No</td>\n",
       "      <td>No</td>\n",
       "      <td>Month-to-month</td>\n",
       "      <td>Yes</td>\n",
       "      <td>Mailed check</td>\n",
       "      <td>53.850</td>\n",
       "      <td>108.150</td>\n",
       "      <td>1</td>\n",
       "    </tr>\n",
       "    <tr>\n",
       "      <th>3</th>\n",
       "      <td>7795-CFOCW</td>\n",
       "      <td>Male</td>\n",
       "      <td>0</td>\n",
       "      <td>No</td>\n",
       "      <td>No</td>\n",
       "      <td>45</td>\n",
       "      <td>No</td>\n",
       "      <td>No phone service</td>\n",
       "      <td>DSL</td>\n",
       "      <td>Yes</td>\n",
       "      <td>No</td>\n",
       "      <td>Yes</td>\n",
       "      <td>Yes</td>\n",
       "      <td>No</td>\n",
       "      <td>No</td>\n",
       "      <td>One year</td>\n",
       "      <td>No</td>\n",
       "      <td>Bank transfer (automatic)</td>\n",
       "      <td>42.300</td>\n",
       "      <td>1840.750</td>\n",
       "      <td>0</td>\n",
       "    </tr>\n",
       "    <tr>\n",
       "      <th>4</th>\n",
       "      <td>9237-HQITU</td>\n",
       "      <td>Female</td>\n",
       "      <td>0</td>\n",
       "      <td>No</td>\n",
       "      <td>No</td>\n",
       "      <td>2</td>\n",
       "      <td>Yes</td>\n",
       "      <td>No</td>\n",
       "      <td>Fiber optic</td>\n",
       "      <td>No</td>\n",
       "      <td>No</td>\n",
       "      <td>No</td>\n",
       "      <td>No</td>\n",
       "      <td>No</td>\n",
       "      <td>No</td>\n",
       "      <td>Month-to-month</td>\n",
       "      <td>Yes</td>\n",
       "      <td>Electronic check</td>\n",
       "      <td>70.700</td>\n",
       "      <td>151.650</td>\n",
       "      <td>1</td>\n",
       "    </tr>\n",
       "  </tbody>\n",
       "</table>\n",
       "</div>"
      ],
      "text/plain": [
       "   customerID  gender SeniorCitizen Partner Dependents  tenure PhoneService     MultipleLines InternetService OnlineSecurity OnlineBackup DeviceProtection TechSupport StreamingTV StreamingMovies        Contract PaperlessBilling              PaymentMethod  MonthlyCharges  TotalCharges  Churn\n",
       "0  7590-VHVEG  Female             0     Yes         No       1           No  No phone service             DSL             No          Yes               No          No          No              No  Month-to-month              Yes           Electronic check          29.850        29.850      0\n",
       "1  5575-GNVDE    Male             0      No         No      34          Yes                No             DSL            Yes           No              Yes          No          No              No        One year               No               Mailed check          56.950      1889.500      0\n",
       "2  3668-QPYBK    Male             0      No         No       2          Yes                No             DSL            Yes          Yes               No          No          No              No  Month-to-month              Yes               Mailed check          53.850       108.150      1\n",
       "3  7795-CFOCW    Male             0      No         No      45           No  No phone service             DSL            Yes           No              Yes         Yes          No              No        One year               No  Bank transfer (automatic)          42.300      1840.750      0\n",
       "4  9237-HQITU  Female             0      No         No       2          Yes                No     Fiber optic             No           No               No          No          No              No  Month-to-month              Yes           Electronic check          70.700       151.650      1"
      ]
     },
     "execution_count": 10,
     "metadata": {},
     "output_type": "execute_result"
    }
   ],
   "source": [
    "df.dropna(inplace = True)\n",
    "df['Churn'].replace(to_replace='Yes', value=1, inplace=True)\n",
    "df['Churn'].replace(to_replace='No',  value=0, inplace=True)\n",
    "df.head()"
   ]
  },
  {
   "cell_type": "code",
   "execution_count": 11,
   "id": "9dbc64dc",
   "metadata": {
    "execution": {
     "iopub.execute_input": "2024-10-30T16:31:00.675708Z",
     "iopub.status.busy": "2024-10-30T16:31:00.673879Z",
     "iopub.status.idle": "2024-10-30T16:31:00.801248Z",
     "shell.execute_reply": "2024-10-30T16:31:00.799216Z"
    },
    "papermill": {
     "duration": 0.15715,
     "end_time": "2024-10-30T16:31:00.804160",
     "exception": false,
     "start_time": "2024-10-30T16:31:00.647010",
     "status": "completed"
    },
    "tags": []
   },
   "outputs": [
    {
     "name": "stdout",
     "output_type": "stream",
     "text": [
      "        gender  Ratio\n",
      "gender               \n",
      "Male      3549 50.469\n",
      "Female    3483 49.531\n",
      "######################\n",
      "         Partner  Ratio\n",
      "Partner                \n",
      "No          3639 51.749\n",
      "Yes         3393 48.251\n",
      "######################\n",
      "            Dependents  Ratio\n",
      "Dependents                   \n",
      "No                4933 70.151\n",
      "Yes               2099 29.849\n",
      "######################\n",
      "              PhoneService  Ratio\n",
      "PhoneService                     \n",
      "Yes                   6352 90.330\n",
      "No                     680  9.670\n",
      "######################\n",
      "                  MultipleLines  Ratio\n",
      "MultipleLines                         \n",
      "No                         3385 48.137\n",
      "Yes                        2967 42.193\n",
      "No phone service            680  9.670\n",
      "######################\n",
      "                 InternetService  Ratio\n",
      "InternetService                        \n",
      "Fiber optic                 3096 44.027\n",
      "DSL                         2416 34.357\n",
      "No                          1520 21.615\n",
      "######################\n",
      "                     OnlineSecurity  Ratio\n",
      "OnlineSecurity                            \n",
      "No                             3497 49.730\n",
      "Yes                            2015 28.655\n",
      "No internet service            1520 21.615\n",
      "######################\n",
      "                     OnlineBackup  Ratio\n",
      "OnlineBackup                            \n",
      "No                           3087 43.899\n",
      "Yes                          2425 34.485\n",
      "No internet service          1520 21.615\n",
      "######################\n",
      "                     DeviceProtection  Ratio\n",
      "DeviceProtection                            \n",
      "No                               3094 43.999\n",
      "Yes                              2418 34.386\n",
      "No internet service              1520 21.615\n",
      "######################\n",
      "                     TechSupport  Ratio\n",
      "TechSupport                            \n",
      "No                          3472 49.374\n",
      "Yes                         2040 29.010\n",
      "No internet service         1520 21.615\n",
      "######################\n",
      "                     StreamingTV  Ratio\n",
      "StreamingTV                            \n",
      "No                          2809 39.946\n",
      "Yes                         2703 38.439\n",
      "No internet service         1520 21.615\n",
      "######################\n",
      "                     StreamingMovies  Ratio\n",
      "StreamingMovies                            \n",
      "No                              2781 39.548\n",
      "Yes                             2731 38.837\n",
      "No internet service             1520 21.615\n",
      "######################\n",
      "                Contract  Ratio\n",
      "Contract                       \n",
      "Month-to-month      3875 55.105\n",
      "Two year            1685 23.962\n",
      "One year            1472 20.933\n",
      "######################\n",
      "                  PaperlessBilling  Ratio\n",
      "PaperlessBilling                         \n",
      "Yes                           4168 59.272\n",
      "No                            2864 40.728\n",
      "######################\n",
      "                           PaymentMethod  Ratio\n",
      "PaymentMethod                                  \n",
      "Electronic check                    2365 33.632\n",
      "Mailed check                        1604 22.810\n",
      "Bank transfer (automatic)           1542 21.928\n",
      "Credit card (automatic)             1521 21.630\n",
      "######################\n",
      "       Churn  Ratio\n",
      "Churn              \n",
      "0       5163 73.422\n",
      "1       1869 26.578\n",
      "######################\n",
      "               SeniorCitizen  Ratio\n",
      "SeniorCitizen                      \n",
      "0                       5890 83.760\n",
      "1                       1142 16.240\n",
      "######################\n"
     ]
    },
    {
     "data": {
      "text/html": [
       "<div>\n",
       "<style scoped>\n",
       "    .dataframe tbody tr th:only-of-type {\n",
       "        vertical-align: middle;\n",
       "    }\n",
       "\n",
       "    .dataframe tbody tr th {\n",
       "        vertical-align: top;\n",
       "    }\n",
       "\n",
       "    .dataframe thead th {\n",
       "        text-align: right;\n",
       "    }\n",
       "</style>\n",
       "<table border=\"1\" class=\"dataframe\">\n",
       "  <thead>\n",
       "    <tr style=\"text-align: right;\">\n",
       "      <th></th>\n",
       "      <th>count</th>\n",
       "      <th>mean</th>\n",
       "      <th>std</th>\n",
       "      <th>min</th>\n",
       "      <th>25%</th>\n",
       "      <th>50%</th>\n",
       "      <th>75%</th>\n",
       "      <th>max</th>\n",
       "    </tr>\n",
       "  </thead>\n",
       "  <tbody>\n",
       "    <tr>\n",
       "      <th>tenure</th>\n",
       "      <td>7032.000</td>\n",
       "      <td>32.422</td>\n",
       "      <td>24.545</td>\n",
       "      <td>1.000</td>\n",
       "      <td>9.000</td>\n",
       "      <td>29.000</td>\n",
       "      <td>55.000</td>\n",
       "      <td>72.000</td>\n",
       "    </tr>\n",
       "    <tr>\n",
       "      <th>MonthlyCharges</th>\n",
       "      <td>7032.000</td>\n",
       "      <td>64.798</td>\n",
       "      <td>30.086</td>\n",
       "      <td>18.250</td>\n",
       "      <td>35.587</td>\n",
       "      <td>70.350</td>\n",
       "      <td>89.862</td>\n",
       "      <td>118.750</td>\n",
       "    </tr>\n",
       "    <tr>\n",
       "      <th>TotalCharges</th>\n",
       "      <td>7032.000</td>\n",
       "      <td>2283.300</td>\n",
       "      <td>2266.771</td>\n",
       "      <td>18.800</td>\n",
       "      <td>401.450</td>\n",
       "      <td>1397.475</td>\n",
       "      <td>3794.738</td>\n",
       "      <td>8684.800</td>\n",
       "    </tr>\n",
       "    <tr>\n",
       "      <th>Churn</th>\n",
       "      <td>7032.000</td>\n",
       "      <td>0.266</td>\n",
       "      <td>0.442</td>\n",
       "      <td>0.000</td>\n",
       "      <td>0.000</td>\n",
       "      <td>0.000</td>\n",
       "      <td>1.000</td>\n",
       "      <td>1.000</td>\n",
       "    </tr>\n",
       "  </tbody>\n",
       "</table>\n",
       "</div>"
      ],
      "text/plain": [
       "                  count     mean      std    min     25%      50%      75%      max\n",
       "tenure         7032.000   32.422   24.545  1.000   9.000   29.000   55.000   72.000\n",
       "MonthlyCharges 7032.000   64.798   30.086 18.250  35.587   70.350   89.862  118.750\n",
       "TotalCharges   7032.000 2283.300 2266.771 18.800 401.450 1397.475 3794.738 8684.800\n",
       "Churn          7032.000    0.266    0.442  0.000   0.000    0.000    1.000    1.000"
      ]
     },
     "execution_count": 11,
     "metadata": {},
     "output_type": "execute_result"
    }
   ],
   "source": [
    "# Let's observe the distribution of numerical and categorical variables in the data\n",
    "\n",
    "for col in cat_cols:\n",
    "    print(pd.DataFrame({col: df[col].value_counts(),\n",
    "                        \"Ratio\": 100 * df[col].value_counts() / len(df)}))\n",
    "    print(\"######################\")\n",
    "\n",
    "df.describe().T"
   ]
  },
  {
   "cell_type": "code",
   "execution_count": 12,
   "id": "28b8435c",
   "metadata": {
    "execution": {
     "iopub.execute_input": "2024-10-30T16:31:00.850456Z",
     "iopub.status.busy": "2024-10-30T16:31:00.849891Z",
     "iopub.status.idle": "2024-10-30T16:31:01.009269Z",
     "shell.execute_reply": "2024-10-30T16:31:01.007904Z"
    },
    "papermill": {
     "duration": 0.188432,
     "end_time": "2024-10-30T16:31:01.012763",
     "exception": false,
     "start_time": "2024-10-30T16:31:00.824331",
     "status": "completed"
    },
    "tags": []
   },
   "outputs": [
    {
     "name": "stdout",
     "output_type": "stream",
     "text": [
      "        Target_Mean  Count  Ratio\n",
      "gender                           \n",
      "Female        0.270   3483 49.531\n",
      "Male          0.262   3549 50.469\n",
      "\n",
      "\n",
      "         Target_Mean  Count  Ratio\n",
      "Partner                           \n",
      "No             0.330   3639 51.749\n",
      "Yes            0.197   3393 48.251\n",
      "\n",
      "\n",
      "            Target_Mean  Count  Ratio\n",
      "Dependents                           \n",
      "No                0.313   4933 70.151\n",
      "Yes               0.155   2099 29.849\n",
      "\n",
      "\n",
      "              Target_Mean  Count  Ratio\n",
      "PhoneService                           \n",
      "No                  0.250    680  9.670\n",
      "Yes                 0.267   6352 90.330\n",
      "\n",
      "\n",
      "                  Target_Mean  Count  Ratio\n",
      "MultipleLines                              \n",
      "No                      0.251   3385 48.137\n",
      "No phone service        0.250    680  9.670\n",
      "Yes                     0.286   2967 42.193\n",
      "\n",
      "\n",
      "                 Target_Mean  Count  Ratio\n",
      "InternetService                           \n",
      "DSL                    0.190   2416 34.357\n",
      "Fiber optic            0.419   3096 44.027\n",
      "No                     0.074   1520 21.615\n",
      "\n",
      "\n",
      "                     Target_Mean  Count  Ratio\n",
      "OnlineSecurity                                \n",
      "No                         0.418   3497 49.730\n",
      "No internet service        0.074   1520 21.615\n",
      "Yes                        0.146   2015 28.655\n",
      "\n",
      "\n",
      "                     Target_Mean  Count  Ratio\n",
      "OnlineBackup                                  \n",
      "No                         0.399   3087 43.899\n",
      "No internet service        0.074   1520 21.615\n",
      "Yes                        0.216   2425 34.485\n",
      "\n",
      "\n",
      "                     Target_Mean  Count  Ratio\n",
      "DeviceProtection                              \n",
      "No                         0.391   3094 43.999\n",
      "No internet service        0.074   1520 21.615\n",
      "Yes                        0.225   2418 34.386\n",
      "\n",
      "\n",
      "                     Target_Mean  Count  Ratio\n",
      "TechSupport                                   \n",
      "No                         0.416   3472 49.374\n",
      "No internet service        0.074   1520 21.615\n",
      "Yes                        0.152   2040 29.010\n",
      "\n",
      "\n",
      "                     Target_Mean  Count  Ratio\n",
      "StreamingTV                                   \n",
      "No                         0.335   2809 39.946\n",
      "No internet service        0.074   1520 21.615\n",
      "Yes                        0.301   2703 38.439\n",
      "\n",
      "\n",
      "                     Target_Mean  Count  Ratio\n",
      "StreamingMovies                               \n",
      "No                         0.337   2781 39.548\n",
      "No internet service        0.074   1520 21.615\n",
      "Yes                        0.300   2731 38.837\n",
      "\n",
      "\n",
      "                Target_Mean  Count  Ratio\n",
      "Contract                                 \n",
      "Month-to-month        0.427   3875 55.105\n",
      "One year              0.113   1472 20.933\n",
      "Two year              0.028   1685 23.962\n",
      "\n",
      "\n",
      "                  Target_Mean  Count  Ratio\n",
      "PaperlessBilling                           \n",
      "No                      0.164   2864 40.728\n",
      "Yes                     0.336   4168 59.272\n",
      "\n",
      "\n",
      "                           Target_Mean  Count  Ratio\n",
      "PaymentMethod                                       \n",
      "Bank transfer (automatic)        0.167   1542 21.928\n",
      "Credit card (automatic)          0.153   1521 21.630\n",
      "Electronic check                 0.453   2365 33.632\n",
      "Mailed check                     0.192   1604 22.810\n",
      "\n",
      "\n",
      "       Target_Mean  Count  Ratio\n",
      "Churn                           \n",
      "0            0.000   5163 73.422\n",
      "1            1.000   1869 26.578\n",
      "\n",
      "\n",
      "               Target_Mean  Count  Ratio\n",
      "SeniorCitizen                           \n",
      "0                    0.237   5890 83.760\n",
      "1                    0.417   1142 16.240\n",
      "\n",
      "\n"
     ]
    }
   ],
   "source": [
    "# Examining categorical variables and target variables\n",
    "\n",
    "def target_with_cat(dataframe, target, cat_col):\n",
    "    print(pd.DataFrame({\"Target_Mean\": dataframe.groupby(cat_col)[target].mean(),\n",
    "                        \"Count\": dataframe[cat_col].value_counts(),\n",
    "                        \"Ratio\": 100 * dataframe[cat_col].value_counts() / len(dataframe)}), end=\"\\n\\n\\n\")\n",
    "\n",
    "for col in cat_cols:\n",
    "    target_with_cat(df, \"Churn\", col)"
   ]
  },
  {
   "cell_type": "code",
   "execution_count": 13,
   "id": "6609c4fd",
   "metadata": {
    "execution": {
     "iopub.execute_input": "2024-10-30T16:31:01.048847Z",
     "iopub.status.busy": "2024-10-30T16:31:01.048283Z",
     "iopub.status.idle": "2024-10-30T16:31:01.068962Z",
     "shell.execute_reply": "2024-10-30T16:31:01.067226Z"
    },
    "papermill": {
     "duration": 0.042146,
     "end_time": "2024-10-30T16:31:01.072050",
     "exception": false,
     "start_time": "2024-10-30T16:31:01.029904",
     "status": "completed"
    },
    "tags": []
   },
   "outputs": [
    {
     "name": "stdout",
     "output_type": "stream",
     "text": [
      "tenure False\n",
      "MonthlyCharges False\n"
     ]
    }
   ],
   "source": [
    "# Examining Outliers\n",
    "\n",
    "def outlier_thresholds(dataframe, col_name, q1=0.5, q3=0.95):\n",
    "        quartile1 = dataframe[col_name].quantile(q1)\n",
    "        quartile3 = dataframe[col_name].quantile(q3)\n",
    "        interquantile_range = quartile3 - quartile1\n",
    "        up_limit = quartile3 + 1.5 * interquantile_range\n",
    "        low_limit = quartile1 - 1.5 * interquantile_range\n",
    "        return low_limit, up_limit\n",
    "\n",
    "def check_outlier(dataframe, col_name):\n",
    "        low_limit, up_limit = outlier_thresholds(dataframe, col_name)\n",
    "        if dataframe[(dataframe[col_name] > up_limit) | (dataframe[col_name] < low_limit)].any(axis=None):\n",
    "            return True\n",
    "        else:\n",
    "            return False\n",
    "\n",
    "\n",
    "for col in num_cols:\n",
    "    print(col, check_outlier(df, col))"
   ]
  },
  {
   "cell_type": "code",
   "execution_count": 14,
   "id": "3a30a3e9",
   "metadata": {
    "execution": {
     "iopub.execute_input": "2024-10-30T16:31:01.109065Z",
     "iopub.status.busy": "2024-10-30T16:31:01.108602Z",
     "iopub.status.idle": "2024-10-30T16:31:01.134039Z",
     "shell.execute_reply": "2024-10-30T16:31:01.132604Z"
    },
    "papermill": {
     "duration": 0.047174,
     "end_time": "2024-10-30T16:31:01.137009",
     "exception": false,
     "start_time": "2024-10-30T16:31:01.089835",
     "status": "completed"
    },
    "tags": []
   },
   "outputs": [
    {
     "data": {
      "text/plain": [
       "customerID          0\n",
       "gender              0\n",
       "SeniorCitizen       0\n",
       "Partner             0\n",
       "Dependents          0\n",
       "tenure              0\n",
       "PhoneService        0\n",
       "MultipleLines       0\n",
       "InternetService     0\n",
       "OnlineSecurity      0\n",
       "OnlineBackup        0\n",
       "DeviceProtection    0\n",
       "TechSupport         0\n",
       "StreamingTV         0\n",
       "StreamingMovies     0\n",
       "Contract            0\n",
       "PaperlessBilling    0\n",
       "PaymentMethod       0\n",
       "MonthlyCharges      0\n",
       "TotalCharges        0\n",
       "Churn               0\n",
       "dtype: int64"
      ]
     },
     "execution_count": 14,
     "metadata": {},
     "output_type": "execute_result"
    }
   ],
   "source": [
    "df.isnull().sum()"
   ]
  },
  {
   "cell_type": "code",
   "execution_count": 15,
   "id": "981efbd6",
   "metadata": {
    "execution": {
     "iopub.execute_input": "2024-10-30T16:31:01.173335Z",
     "iopub.status.busy": "2024-10-30T16:31:01.172807Z",
     "iopub.status.idle": "2024-10-30T16:31:01.205706Z",
     "shell.execute_reply": "2024-10-30T16:31:01.204229Z"
    },
    "papermill": {
     "duration": 0.054733,
     "end_time": "2024-10-30T16:31:01.208871",
     "exception": false,
     "start_time": "2024-10-30T16:31:01.154138",
     "status": "completed"
    },
    "tags": []
   },
   "outputs": [
    {
     "name": "stdout",
     "output_type": "stream",
     "text": [
      "<class 'pandas.core.frame.DataFrame'>\n",
      "Index: 7032 entries, 0 to 7042\n",
      "Data columns (total 21 columns):\n",
      " #   Column            Non-Null Count  Dtype  \n",
      "---  ------            --------------  -----  \n",
      " 0   customerID        7032 non-null   object \n",
      " 1   gender            7032 non-null   object \n",
      " 2   SeniorCitizen     7032 non-null   object \n",
      " 3   Partner           7032 non-null   object \n",
      " 4   Dependents        7032 non-null   object \n",
      " 5   tenure            7032 non-null   int64  \n",
      " 6   PhoneService      7032 non-null   object \n",
      " 7   MultipleLines     7032 non-null   object \n",
      " 8   InternetService   7032 non-null   object \n",
      " 9   OnlineSecurity    7032 non-null   object \n",
      " 10  OnlineBackup      7032 non-null   object \n",
      " 11  DeviceProtection  7032 non-null   object \n",
      " 12  TechSupport       7032 non-null   object \n",
      " 13  StreamingTV       7032 non-null   object \n",
      " 14  StreamingMovies   7032 non-null   object \n",
      " 15  Contract          7032 non-null   object \n",
      " 16  PaperlessBilling  7032 non-null   object \n",
      " 17  PaymentMethod     7032 non-null   object \n",
      " 18  MonthlyCharges    7032 non-null   float64\n",
      " 19  TotalCharges      7032 non-null   float64\n",
      " 20  Churn             7032 non-null   int64  \n",
      "dtypes: float64(2), int64(2), object(17)\n",
      "memory usage: 1.2+ MB\n"
     ]
    }
   ],
   "source": [
    "df.info()"
   ]
  },
  {
   "cell_type": "markdown",
   "id": "b64175e6",
   "metadata": {
    "papermill": {
     "duration": 0.016812,
     "end_time": "2024-10-30T16:31:01.242978",
     "exception": false,
     "start_time": "2024-10-30T16:31:01.226166",
     "status": "completed"
    },
    "tags": []
   },
   "source": [
    "##  <span style=\"color:#2D7680\"> 3. Feature Engineering </span> <a class=\"anchor\" id=\"Fea\"></a> \n"
   ]
  },
  {
   "cell_type": "code",
   "execution_count": 16,
   "id": "aa82991d",
   "metadata": {
    "execution": {
     "iopub.execute_input": "2024-10-30T16:31:01.279289Z",
     "iopub.status.busy": "2024-10-30T16:31:01.278792Z",
     "iopub.status.idle": "2024-10-30T16:31:01.287963Z",
     "shell.execute_reply": "2024-10-30T16:31:01.286864Z"
    },
    "papermill": {
     "duration": 0.030219,
     "end_time": "2024-10-30T16:31:01.290488",
     "exception": false,
     "start_time": "2024-10-30T16:31:01.260269",
     "status": "completed"
    },
    "tags": []
   },
   "outputs": [
    {
     "data": {
      "text/plain": [
       "array(['No phone service', 'No', 'Yes'], dtype=object)"
      ]
     },
     "execution_count": 16,
     "metadata": {},
     "output_type": "execute_result"
    }
   ],
   "source": [
    "df[\"MultipleLines\"].unique()"
   ]
  },
  {
   "cell_type": "code",
   "execution_count": 17,
   "id": "6fefc496",
   "metadata": {
    "execution": {
     "iopub.execute_input": "2024-10-30T16:31:01.328389Z",
     "iopub.status.busy": "2024-10-30T16:31:01.327882Z",
     "iopub.status.idle": "2024-10-30T16:31:01.336993Z",
     "shell.execute_reply": "2024-10-30T16:31:01.335760Z"
    },
    "papermill": {
     "duration": 0.031955,
     "end_time": "2024-10-30T16:31:01.339762",
     "exception": false,
     "start_time": "2024-10-30T16:31:01.307807",
     "status": "completed"
    },
    "tags": []
   },
   "outputs": [
    {
     "data": {
      "text/plain": [
       "array(['DSL', 'Fiber optic', 'No'], dtype=object)"
      ]
     },
     "execution_count": 17,
     "metadata": {},
     "output_type": "execute_result"
    }
   ],
   "source": [
    "df[\"InternetService\"].unique()"
   ]
  },
  {
   "cell_type": "code",
   "execution_count": 18,
   "id": "f77ff7c5",
   "metadata": {
    "execution": {
     "iopub.execute_input": "2024-10-30T16:31:01.376680Z",
     "iopub.status.busy": "2024-10-30T16:31:01.376172Z",
     "iopub.status.idle": "2024-10-30T16:31:01.385731Z",
     "shell.execute_reply": "2024-10-30T16:31:01.384317Z"
    },
    "papermill": {
     "duration": 0.031241,
     "end_time": "2024-10-30T16:31:01.388379",
     "exception": false,
     "start_time": "2024-10-30T16:31:01.357138",
     "status": "completed"
    },
    "tags": []
   },
   "outputs": [
    {
     "data": {
      "text/plain": [
       "array(['No', 'Yes', 'No internet service'], dtype=object)"
      ]
     },
     "execution_count": 18,
     "metadata": {},
     "output_type": "execute_result"
    }
   ],
   "source": [
    "df[\"OnlineSecurity\"].unique()"
   ]
  },
  {
   "cell_type": "code",
   "execution_count": 19,
   "id": "bfd0d3ac",
   "metadata": {
    "execution": {
     "iopub.execute_input": "2024-10-30T16:31:01.425817Z",
     "iopub.status.busy": "2024-10-30T16:31:01.425340Z",
     "iopub.status.idle": "2024-10-30T16:31:01.434858Z",
     "shell.execute_reply": "2024-10-30T16:31:01.433600Z"
    },
    "papermill": {
     "duration": 0.031135,
     "end_time": "2024-10-30T16:31:01.437382",
     "exception": false,
     "start_time": "2024-10-30T16:31:01.406247",
     "status": "completed"
    },
    "tags": []
   },
   "outputs": [
    {
     "data": {
      "text/plain": [
       "array(['Yes', 'No', 'No internet service'], dtype=object)"
      ]
     },
     "execution_count": 19,
     "metadata": {},
     "output_type": "execute_result"
    }
   ],
   "source": [
    "df[\"OnlineBackup\"].unique()"
   ]
  },
  {
   "cell_type": "code",
   "execution_count": 20,
   "id": "893e8e31",
   "metadata": {
    "execution": {
     "iopub.execute_input": "2024-10-30T16:31:01.475492Z",
     "iopub.status.busy": "2024-10-30T16:31:01.474933Z",
     "iopub.status.idle": "2024-10-30T16:31:01.485065Z",
     "shell.execute_reply": "2024-10-30T16:31:01.483576Z"
    },
    "papermill": {
     "duration": 0.03355,
     "end_time": "2024-10-30T16:31:01.488054",
     "exception": false,
     "start_time": "2024-10-30T16:31:01.454504",
     "status": "completed"
    },
    "tags": []
   },
   "outputs": [
    {
     "data": {
      "text/plain": [
       "array(['No', 'Yes', 'No internet service'], dtype=object)"
      ]
     },
     "execution_count": 20,
     "metadata": {},
     "output_type": "execute_result"
    }
   ],
   "source": [
    "df[\"DeviceProtection\"].unique()"
   ]
  },
  {
   "cell_type": "code",
   "execution_count": 21,
   "id": "a0272a97",
   "metadata": {
    "execution": {
     "iopub.execute_input": "2024-10-30T16:31:01.526573Z",
     "iopub.status.busy": "2024-10-30T16:31:01.525544Z",
     "iopub.status.idle": "2024-10-30T16:31:01.535099Z",
     "shell.execute_reply": "2024-10-30T16:31:01.533618Z"
    },
    "papermill": {
     "duration": 0.031878,
     "end_time": "2024-10-30T16:31:01.538023",
     "exception": false,
     "start_time": "2024-10-30T16:31:01.506145",
     "status": "completed"
    },
    "tags": []
   },
   "outputs": [
    {
     "data": {
      "text/plain": [
       "array(['No', 'Yes', 'No internet service'], dtype=object)"
      ]
     },
     "execution_count": 21,
     "metadata": {},
     "output_type": "execute_result"
    }
   ],
   "source": [
    "df[\"TechSupport\"].unique()"
   ]
  },
  {
   "cell_type": "code",
   "execution_count": 22,
   "id": "6fbb92a4",
   "metadata": {
    "execution": {
     "iopub.execute_input": "2024-10-30T16:31:01.577548Z",
     "iopub.status.busy": "2024-10-30T16:31:01.576976Z",
     "iopub.status.idle": "2024-10-30T16:31:01.586789Z",
     "shell.execute_reply": "2024-10-30T16:31:01.585409Z"
    },
    "papermill": {
     "duration": 0.03335,
     "end_time": "2024-10-30T16:31:01.590128",
     "exception": false,
     "start_time": "2024-10-30T16:31:01.556778",
     "status": "completed"
    },
    "tags": []
   },
   "outputs": [
    {
     "data": {
      "text/plain": [
       "array(['No', 'Yes', 'No internet service'], dtype=object)"
      ]
     },
     "execution_count": 22,
     "metadata": {},
     "output_type": "execute_result"
    }
   ],
   "source": [
    "df[\"StreamingMovies\"].unique()"
   ]
  },
  {
   "cell_type": "code",
   "execution_count": 23,
   "id": "4a507ac6",
   "metadata": {
    "execution": {
     "iopub.execute_input": "2024-10-30T16:31:01.628108Z",
     "iopub.status.busy": "2024-10-30T16:31:01.627648Z",
     "iopub.status.idle": "2024-10-30T16:31:01.637274Z",
     "shell.execute_reply": "2024-10-30T16:31:01.635806Z"
    },
    "papermill": {
     "duration": 0.031862,
     "end_time": "2024-10-30T16:31:01.640112",
     "exception": false,
     "start_time": "2024-10-30T16:31:01.608250",
     "status": "completed"
    },
    "tags": []
   },
   "outputs": [
    {
     "data": {
      "text/plain": [
       "array(['No', 'Yes', 'No internet service'], dtype=object)"
      ]
     },
     "execution_count": 23,
     "metadata": {},
     "output_type": "execute_result"
    }
   ],
   "source": [
    "df[\"StreamingTV\"].unique()"
   ]
  },
  {
   "cell_type": "code",
   "execution_count": 24,
   "id": "d59788de",
   "metadata": {
    "execution": {
     "iopub.execute_input": "2024-10-30T16:31:01.678086Z",
     "iopub.status.busy": "2024-10-30T16:31:01.677553Z",
     "iopub.status.idle": "2024-10-30T16:31:01.687158Z",
     "shell.execute_reply": "2024-10-30T16:31:01.685936Z"
    },
    "papermill": {
     "duration": 0.032162,
     "end_time": "2024-10-30T16:31:01.690024",
     "exception": false,
     "start_time": "2024-10-30T16:31:01.657862",
     "status": "completed"
    },
    "tags": []
   },
   "outputs": [
    {
     "data": {
      "text/plain": [
       "array(['Yes', 'No'], dtype=object)"
      ]
     },
     "execution_count": 24,
     "metadata": {},
     "output_type": "execute_result"
    }
   ],
   "source": [
    "df[\"PaperlessBilling\"].unique()"
   ]
  },
  {
   "cell_type": "code",
   "execution_count": 25,
   "id": "fac27727",
   "metadata": {
    "execution": {
     "iopub.execute_input": "2024-10-30T16:31:01.731332Z",
     "iopub.status.busy": "2024-10-30T16:31:01.730837Z",
     "iopub.status.idle": "2024-10-30T16:31:01.740894Z",
     "shell.execute_reply": "2024-10-30T16:31:01.739599Z"
    },
    "papermill": {
     "duration": 0.034018,
     "end_time": "2024-10-30T16:31:01.743491",
     "exception": false,
     "start_time": "2024-10-30T16:31:01.709473",
     "status": "completed"
    },
    "tags": []
   },
   "outputs": [
    {
     "data": {
      "text/plain": [
       "array(['No', 'Yes'], dtype=object)"
      ]
     },
     "execution_count": 25,
     "metadata": {},
     "output_type": "execute_result"
    }
   ],
   "source": [
    "df[\"PhoneService\"].unique()"
   ]
  },
  {
   "cell_type": "code",
   "execution_count": 26,
   "id": "0bc7ac2b",
   "metadata": {
    "execution": {
     "iopub.execute_input": "2024-10-30T16:31:01.783161Z",
     "iopub.status.busy": "2024-10-30T16:31:01.782690Z",
     "iopub.status.idle": "2024-10-30T16:31:01.811039Z",
     "shell.execute_reply": "2024-10-30T16:31:01.809745Z"
    },
    "papermill": {
     "duration": 0.050974,
     "end_time": "2024-10-30T16:31:01.813677",
     "exception": false,
     "start_time": "2024-10-30T16:31:01.762703",
     "status": "completed"
    },
    "tags": []
   },
   "outputs": [
    {
     "data": {
      "text/plain": [
       "0       1\n",
       "1       3\n",
       "2       3\n",
       "3       3\n",
       "4       1\n",
       "       ..\n",
       "7038    6\n",
       "7039    5\n",
       "7040    1\n",
       "7041    1\n",
       "7042    6\n",
       "Name: New_Total_Services, Length: 7032, dtype: int64"
      ]
     },
     "execution_count": 26,
     "metadata": {},
     "output_type": "execute_result"
    }
   ],
   "source": [
    "# Create new variables\n",
    "# Total number of services received by the person\n",
    "\n",
    "df['New_Total_Services'] = (df[[ 'InternetService', 'OnlineSecurity',\n",
    "                            'OnlineBackup', 'DeviceProtection', 'TechSupport',\n",
    "                            'StreamingMovies','StreamingTV','PhoneService']] == 'Yes').sum(axis=1)\n",
    "df['New_Total_Services']"
   ]
  },
  {
   "cell_type": "code",
   "execution_count": 27,
   "id": "3e856400",
   "metadata": {
    "execution": {
     "iopub.execute_input": "2024-10-30T16:31:01.852844Z",
     "iopub.status.busy": "2024-10-30T16:31:01.851599Z",
     "iopub.status.idle": "2024-10-30T16:31:01.863764Z",
     "shell.execute_reply": "2024-10-30T16:31:01.862266Z"
    },
    "papermill": {
     "duration": 0.034679,
     "end_time": "2024-10-30T16:31:01.866683",
     "exception": false,
     "start_time": "2024-10-30T16:31:01.832004",
     "status": "completed"
    },
    "tags": []
   },
   "outputs": [
    {
     "data": {
      "text/plain": [
       "0       14.925\n",
       "1       53.986\n",
       "2       36.050\n",
       "3       40.016\n",
       "4       50.550\n",
       "         ...  \n",
       "7038    79.620\n",
       "7039   100.862\n",
       "7040    28.871\n",
       "7041    61.320\n",
       "7042   102.157\n",
       "Name: New_Avg_Charges, Length: 7032, dtype: float64"
      ]
     },
     "execution_count": 27,
     "metadata": {},
     "output_type": "execute_result"
    }
   ],
   "source": [
    "# Average monthly payment\n",
    "\n",
    "df[\"New_Avg_Charges\"] = df[\"TotalCharges\"] / (df[\"tenure\"] + 1)\n",
    "df[\"New_Avg_Charges\"]"
   ]
  },
  {
   "cell_type": "code",
   "execution_count": 28,
   "id": "1dc0b2e7",
   "metadata": {
    "execution": {
     "iopub.execute_input": "2024-10-30T16:31:01.906401Z",
     "iopub.status.busy": "2024-10-30T16:31:01.905305Z",
     "iopub.status.idle": "2024-10-30T16:31:01.931077Z",
     "shell.execute_reply": "2024-10-30T16:31:01.929857Z"
    },
    "papermill": {
     "duration": 0.048487,
     "end_time": "2024-10-30T16:31:01.933732",
     "exception": false,
     "start_time": "2024-10-30T16:31:01.885245",
     "status": "completed"
    },
    "tags": []
   },
   "outputs": [
    {
     "data": {
      "text/plain": [
       "0       0-1 Year\n",
       "1       2-3 Year\n",
       "2       0-1 Year\n",
       "3       3-4 Year\n",
       "4       0-1 Year\n",
       "          ...   \n",
       "7038    1-2 Year\n",
       "7039    5-6 Year\n",
       "7040    0-1 Year\n",
       "7041    0-1 Year\n",
       "7042    5-6 Year\n",
       "Name: New_Tenure_Year, Length: 7032, dtype: object"
      ]
     },
     "execution_count": 28,
     "metadata": {},
     "output_type": "execute_result"
    }
   ],
   "source": [
    "#tenure : (0-71)\n",
    "\n",
    "df.loc[(df[\"tenure\"]>=0) & (df[\"tenure\"]<=12),\"New_Tenure_Year\"] = \"0-1 Year\"\n",
    "df.loc[(df[\"tenure\"]>12) & (df[\"tenure\"]<=24),\"New_Tenure_Year\"] = \"1-2 Year\"\n",
    "df.loc[(df[\"tenure\"]>24) & (df[\"tenure\"]<=36),\"New_Tenure_Year\"] = \"2-3 Year\"\n",
    "df.loc[(df[\"tenure\"]>36) & (df[\"tenure\"]<=48),\"New_Tenure_Year\"] = \"3-4 Year\"\n",
    "df.loc[(df[\"tenure\"]>48) & (df[\"tenure\"]<=60),\"New_Tenure_Year\"] = \"4-5 Year\"\n",
    "df.loc[(df[\"tenure\"]>60) & (df[\"tenure\"]<=72),\"New_Tenure_Year\"] = \"5-6 Year\"     \n",
    "df[\"New_Tenure_Year\"]"
   ]
  },
  {
   "cell_type": "code",
   "execution_count": 29,
   "id": "b2601847",
   "metadata": {
    "execution": {
     "iopub.execute_input": "2024-10-30T16:31:01.974046Z",
     "iopub.status.busy": "2024-10-30T16:31:01.973518Z",
     "iopub.status.idle": "2024-10-30T16:31:02.014313Z",
     "shell.execute_reply": "2024-10-30T16:31:02.012282Z"
    },
    "papermill": {
     "duration": 0.064315,
     "end_time": "2024-10-30T16:31:02.017122",
     "exception": false,
     "start_time": "2024-10-30T16:31:01.952807",
     "status": "completed"
    },
    "tags": []
   },
   "outputs": [
    {
     "name": "stdout",
     "output_type": "stream",
     "text": [
      "Observations: 7032\n",
      "Variables: 24\n",
      "cat_cols: 19\n",
      "num_cols: 4\n",
      "cat_but_car: 1\n",
      "num_but_cat: 2\n"
     ]
    }
   ],
   "source": [
    "cat_cols, num_cols, cat_but_car = grab_col_names(df)"
   ]
  },
  {
   "cell_type": "code",
   "execution_count": 30,
   "id": "2a20557f",
   "metadata": {
    "execution": {
     "iopub.execute_input": "2024-10-30T16:31:02.057350Z",
     "iopub.status.busy": "2024-10-30T16:31:02.056812Z",
     "iopub.status.idle": "2024-10-30T16:31:02.093790Z",
     "shell.execute_reply": "2024-10-30T16:31:02.092286Z"
    },
    "papermill": {
     "duration": 0.06107,
     "end_time": "2024-10-30T16:31:02.096783",
     "exception": false,
     "start_time": "2024-10-30T16:31:02.035713",
     "status": "completed"
    },
    "tags": []
   },
   "outputs": [],
   "source": [
    "# Label encoder\n",
    "\n",
    "def label_encoder(dataframe, binary_cols):\n",
    "    dataframe[binary_cols] = LabelEncoder().fit_transform(dataframe[binary_cols])\n",
    "    return dataframe\n",
    "\n",
    "\n",
    "binary_cols = [col for col in df.columns if df[col].dtype == \"O\" and df[col].nunique() == 2]\n",
    "for col in binary_cols:\n",
    "    df = label_encoder(df, col)\n"
   ]
  },
  {
   "cell_type": "code",
   "execution_count": 31,
   "id": "57275caa",
   "metadata": {
    "execution": {
     "iopub.execute_input": "2024-10-30T16:31:02.137660Z",
     "iopub.status.busy": "2024-10-30T16:31:02.136546Z",
     "iopub.status.idle": "2024-10-30T16:31:02.211182Z",
     "shell.execute_reply": "2024-10-30T16:31:02.209675Z"
    },
    "papermill": {
     "duration": 0.098052,
     "end_time": "2024-10-30T16:31:02.214004",
     "exception": false,
     "start_time": "2024-10-30T16:31:02.115952",
     "status": "completed"
    },
    "tags": []
   },
   "outputs": [
    {
     "data": {
      "text/html": [
       "<div>\n",
       "<style scoped>\n",
       "    .dataframe tbody tr th:only-of-type {\n",
       "        vertical-align: middle;\n",
       "    }\n",
       "\n",
       "    .dataframe tbody tr th {\n",
       "        vertical-align: top;\n",
       "    }\n",
       "\n",
       "    .dataframe thead th {\n",
       "        text-align: right;\n",
       "    }\n",
       "</style>\n",
       "<table border=\"1\" class=\"dataframe\">\n",
       "  <thead>\n",
       "    <tr style=\"text-align: right;\">\n",
       "      <th></th>\n",
       "      <th>customerID</th>\n",
       "      <th>gender</th>\n",
       "      <th>SeniorCitizen</th>\n",
       "      <th>Partner</th>\n",
       "      <th>Dependents</th>\n",
       "      <th>tenure</th>\n",
       "      <th>PhoneService</th>\n",
       "      <th>PaperlessBilling</th>\n",
       "      <th>MonthlyCharges</th>\n",
       "      <th>TotalCharges</th>\n",
       "      <th>Churn</th>\n",
       "      <th>New_Avg_Charges</th>\n",
       "      <th>MultipleLines_No phone service</th>\n",
       "      <th>MultipleLines_Yes</th>\n",
       "      <th>InternetService_Fiber optic</th>\n",
       "      <th>InternetService_No</th>\n",
       "      <th>OnlineSecurity_No internet service</th>\n",
       "      <th>OnlineSecurity_Yes</th>\n",
       "      <th>OnlineBackup_No internet service</th>\n",
       "      <th>OnlineBackup_Yes</th>\n",
       "      <th>DeviceProtection_No internet service</th>\n",
       "      <th>DeviceProtection_Yes</th>\n",
       "      <th>TechSupport_No internet service</th>\n",
       "      <th>TechSupport_Yes</th>\n",
       "      <th>StreamingTV_No internet service</th>\n",
       "      <th>StreamingTV_Yes</th>\n",
       "      <th>StreamingMovies_No internet service</th>\n",
       "      <th>StreamingMovies_Yes</th>\n",
       "      <th>Contract_One year</th>\n",
       "      <th>Contract_Two year</th>\n",
       "      <th>PaymentMethod_Credit card (automatic)</th>\n",
       "      <th>PaymentMethod_Electronic check</th>\n",
       "      <th>PaymentMethod_Mailed check</th>\n",
       "      <th>New_Total_Services_1</th>\n",
       "      <th>New_Total_Services_2</th>\n",
       "      <th>New_Total_Services_3</th>\n",
       "      <th>New_Total_Services_4</th>\n",
       "      <th>New_Total_Services_5</th>\n",
       "      <th>New_Total_Services_6</th>\n",
       "      <th>New_Total_Services_7</th>\n",
       "      <th>New_Tenure_Year_1-2 Year</th>\n",
       "      <th>New_Tenure_Year_2-3 Year</th>\n",
       "      <th>New_Tenure_Year_3-4 Year</th>\n",
       "      <th>New_Tenure_Year_4-5 Year</th>\n",
       "      <th>New_Tenure_Year_5-6 Year</th>\n",
       "    </tr>\n",
       "  </thead>\n",
       "  <tbody>\n",
       "    <tr>\n",
       "      <th>0</th>\n",
       "      <td>7590-VHVEG</td>\n",
       "      <td>0</td>\n",
       "      <td>0</td>\n",
       "      <td>1</td>\n",
       "      <td>0</td>\n",
       "      <td>1</td>\n",
       "      <td>0</td>\n",
       "      <td>1</td>\n",
       "      <td>29.850</td>\n",
       "      <td>29.850</td>\n",
       "      <td>0</td>\n",
       "      <td>14.925</td>\n",
       "      <td>True</td>\n",
       "      <td>False</td>\n",
       "      <td>False</td>\n",
       "      <td>False</td>\n",
       "      <td>False</td>\n",
       "      <td>False</td>\n",
       "      <td>False</td>\n",
       "      <td>True</td>\n",
       "      <td>False</td>\n",
       "      <td>False</td>\n",
       "      <td>False</td>\n",
       "      <td>False</td>\n",
       "      <td>False</td>\n",
       "      <td>False</td>\n",
       "      <td>False</td>\n",
       "      <td>False</td>\n",
       "      <td>False</td>\n",
       "      <td>False</td>\n",
       "      <td>False</td>\n",
       "      <td>True</td>\n",
       "      <td>False</td>\n",
       "      <td>True</td>\n",
       "      <td>False</td>\n",
       "      <td>False</td>\n",
       "      <td>False</td>\n",
       "      <td>False</td>\n",
       "      <td>False</td>\n",
       "      <td>False</td>\n",
       "      <td>False</td>\n",
       "      <td>False</td>\n",
       "      <td>False</td>\n",
       "      <td>False</td>\n",
       "      <td>False</td>\n",
       "    </tr>\n",
       "    <tr>\n",
       "      <th>1</th>\n",
       "      <td>5575-GNVDE</td>\n",
       "      <td>1</td>\n",
       "      <td>0</td>\n",
       "      <td>0</td>\n",
       "      <td>0</td>\n",
       "      <td>34</td>\n",
       "      <td>1</td>\n",
       "      <td>0</td>\n",
       "      <td>56.950</td>\n",
       "      <td>1889.500</td>\n",
       "      <td>0</td>\n",
       "      <td>53.986</td>\n",
       "      <td>False</td>\n",
       "      <td>False</td>\n",
       "      <td>False</td>\n",
       "      <td>False</td>\n",
       "      <td>False</td>\n",
       "      <td>True</td>\n",
       "      <td>False</td>\n",
       "      <td>False</td>\n",
       "      <td>False</td>\n",
       "      <td>True</td>\n",
       "      <td>False</td>\n",
       "      <td>False</td>\n",
       "      <td>False</td>\n",
       "      <td>False</td>\n",
       "      <td>False</td>\n",
       "      <td>False</td>\n",
       "      <td>True</td>\n",
       "      <td>False</td>\n",
       "      <td>False</td>\n",
       "      <td>False</td>\n",
       "      <td>True</td>\n",
       "      <td>False</td>\n",
       "      <td>False</td>\n",
       "      <td>True</td>\n",
       "      <td>False</td>\n",
       "      <td>False</td>\n",
       "      <td>False</td>\n",
       "      <td>False</td>\n",
       "      <td>False</td>\n",
       "      <td>True</td>\n",
       "      <td>False</td>\n",
       "      <td>False</td>\n",
       "      <td>False</td>\n",
       "    </tr>\n",
       "    <tr>\n",
       "      <th>2</th>\n",
       "      <td>3668-QPYBK</td>\n",
       "      <td>1</td>\n",
       "      <td>0</td>\n",
       "      <td>0</td>\n",
       "      <td>0</td>\n",
       "      <td>2</td>\n",
       "      <td>1</td>\n",
       "      <td>1</td>\n",
       "      <td>53.850</td>\n",
       "      <td>108.150</td>\n",
       "      <td>1</td>\n",
       "      <td>36.050</td>\n",
       "      <td>False</td>\n",
       "      <td>False</td>\n",
       "      <td>False</td>\n",
       "      <td>False</td>\n",
       "      <td>False</td>\n",
       "      <td>True</td>\n",
       "      <td>False</td>\n",
       "      <td>True</td>\n",
       "      <td>False</td>\n",
       "      <td>False</td>\n",
       "      <td>False</td>\n",
       "      <td>False</td>\n",
       "      <td>False</td>\n",
       "      <td>False</td>\n",
       "      <td>False</td>\n",
       "      <td>False</td>\n",
       "      <td>False</td>\n",
       "      <td>False</td>\n",
       "      <td>False</td>\n",
       "      <td>False</td>\n",
       "      <td>True</td>\n",
       "      <td>False</td>\n",
       "      <td>False</td>\n",
       "      <td>True</td>\n",
       "      <td>False</td>\n",
       "      <td>False</td>\n",
       "      <td>False</td>\n",
       "      <td>False</td>\n",
       "      <td>False</td>\n",
       "      <td>False</td>\n",
       "      <td>False</td>\n",
       "      <td>False</td>\n",
       "      <td>False</td>\n",
       "    </tr>\n",
       "    <tr>\n",
       "      <th>3</th>\n",
       "      <td>7795-CFOCW</td>\n",
       "      <td>1</td>\n",
       "      <td>0</td>\n",
       "      <td>0</td>\n",
       "      <td>0</td>\n",
       "      <td>45</td>\n",
       "      <td>0</td>\n",
       "      <td>0</td>\n",
       "      <td>42.300</td>\n",
       "      <td>1840.750</td>\n",
       "      <td>0</td>\n",
       "      <td>40.016</td>\n",
       "      <td>True</td>\n",
       "      <td>False</td>\n",
       "      <td>False</td>\n",
       "      <td>False</td>\n",
       "      <td>False</td>\n",
       "      <td>True</td>\n",
       "      <td>False</td>\n",
       "      <td>False</td>\n",
       "      <td>False</td>\n",
       "      <td>True</td>\n",
       "      <td>False</td>\n",
       "      <td>True</td>\n",
       "      <td>False</td>\n",
       "      <td>False</td>\n",
       "      <td>False</td>\n",
       "      <td>False</td>\n",
       "      <td>True</td>\n",
       "      <td>False</td>\n",
       "      <td>False</td>\n",
       "      <td>False</td>\n",
       "      <td>False</td>\n",
       "      <td>False</td>\n",
       "      <td>False</td>\n",
       "      <td>True</td>\n",
       "      <td>False</td>\n",
       "      <td>False</td>\n",
       "      <td>False</td>\n",
       "      <td>False</td>\n",
       "      <td>False</td>\n",
       "      <td>False</td>\n",
       "      <td>True</td>\n",
       "      <td>False</td>\n",
       "      <td>False</td>\n",
       "    </tr>\n",
       "    <tr>\n",
       "      <th>4</th>\n",
       "      <td>9237-HQITU</td>\n",
       "      <td>0</td>\n",
       "      <td>0</td>\n",
       "      <td>0</td>\n",
       "      <td>0</td>\n",
       "      <td>2</td>\n",
       "      <td>1</td>\n",
       "      <td>1</td>\n",
       "      <td>70.700</td>\n",
       "      <td>151.650</td>\n",
       "      <td>1</td>\n",
       "      <td>50.550</td>\n",
       "      <td>False</td>\n",
       "      <td>False</td>\n",
       "      <td>True</td>\n",
       "      <td>False</td>\n",
       "      <td>False</td>\n",
       "      <td>False</td>\n",
       "      <td>False</td>\n",
       "      <td>False</td>\n",
       "      <td>False</td>\n",
       "      <td>False</td>\n",
       "      <td>False</td>\n",
       "      <td>False</td>\n",
       "      <td>False</td>\n",
       "      <td>False</td>\n",
       "      <td>False</td>\n",
       "      <td>False</td>\n",
       "      <td>False</td>\n",
       "      <td>False</td>\n",
       "      <td>False</td>\n",
       "      <td>True</td>\n",
       "      <td>False</td>\n",
       "      <td>True</td>\n",
       "      <td>False</td>\n",
       "      <td>False</td>\n",
       "      <td>False</td>\n",
       "      <td>False</td>\n",
       "      <td>False</td>\n",
       "      <td>False</td>\n",
       "      <td>False</td>\n",
       "      <td>False</td>\n",
       "      <td>False</td>\n",
       "      <td>False</td>\n",
       "      <td>False</td>\n",
       "    </tr>\n",
       "  </tbody>\n",
       "</table>\n",
       "</div>"
      ],
      "text/plain": [
       "   customerID  gender  SeniorCitizen  Partner  Dependents  tenure  PhoneService  PaperlessBilling  MonthlyCharges  TotalCharges  Churn  New_Avg_Charges  MultipleLines_No phone service  MultipleLines_Yes  InternetService_Fiber optic  InternetService_No  OnlineSecurity_No internet service  OnlineSecurity_Yes  OnlineBackup_No internet service  OnlineBackup_Yes  DeviceProtection_No internet service  DeviceProtection_Yes  TechSupport_No internet service  TechSupport_Yes  \\\n",
       "0  7590-VHVEG       0              0        1           0       1             0                 1          29.850        29.850      0           14.925                            True              False                        False               False                               False               False                             False              True                                 False                 False                            False            False   \n",
       "1  5575-GNVDE       1              0        0           0      34             1                 0          56.950      1889.500      0           53.986                           False              False                        False               False                               False                True                             False             False                                 False                  True                            False            False   \n",
       "2  3668-QPYBK       1              0        0           0       2             1                 1          53.850       108.150      1           36.050                           False              False                        False               False                               False                True                             False              True                                 False                 False                            False            False   \n",
       "3  7795-CFOCW       1              0        0           0      45             0                 0          42.300      1840.750      0           40.016                            True              False                        False               False                               False                True                             False             False                                 False                  True                            False             True   \n",
       "4  9237-HQITU       0              0        0           0       2             1                 1          70.700       151.650      1           50.550                           False              False                         True               False                               False               False                             False             False                                 False                 False                            False            False   \n",
       "\n",
       "   StreamingTV_No internet service  StreamingTV_Yes  StreamingMovies_No internet service  StreamingMovies_Yes  Contract_One year  Contract_Two year  PaymentMethod_Credit card (automatic)  PaymentMethod_Electronic check  PaymentMethod_Mailed check  New_Total_Services_1  New_Total_Services_2  New_Total_Services_3  New_Total_Services_4  New_Total_Services_5  New_Total_Services_6  New_Total_Services_7  New_Tenure_Year_1-2 Year  New_Tenure_Year_2-3 Year  New_Tenure_Year_3-4 Year  \\\n",
       "0                            False            False                                False                False              False              False                                  False                            True                       False                  True                 False                 False                 False                 False                 False                 False                     False                     False                     False   \n",
       "1                            False            False                                False                False               True              False                                  False                           False                        True                 False                 False                  True                 False                 False                 False                 False                     False                      True                     False   \n",
       "2                            False            False                                False                False              False              False                                  False                           False                        True                 False                 False                  True                 False                 False                 False                 False                     False                     False                     False   \n",
       "3                            False            False                                False                False               True              False                                  False                           False                       False                 False                 False                  True                 False                 False                 False                 False                     False                     False                      True   \n",
       "4                            False            False                                False                False              False              False                                  False                            True                       False                  True                 False                 False                 False                 False                 False                 False                     False                     False                     False   \n",
       "\n",
       "   New_Tenure_Year_4-5 Year  New_Tenure_Year_5-6 Year  \n",
       "0                     False                     False  \n",
       "1                     False                     False  \n",
       "2                     False                     False  \n",
       "3                     False                     False  \n",
       "4                     False                     False  "
      ]
     },
     "execution_count": 31,
     "metadata": {},
     "output_type": "execute_result"
    }
   ],
   "source": [
    "# OneHot encoder\n",
    "\n",
    "def one_hot_encoder(dataframe, categorical_cols, drop_first=True):\n",
    "    dataframe = pd.get_dummies(dataframe, columns=categorical_cols, drop_first=drop_first)\n",
    "    return dataframe\n",
    "\n",
    "cols = [col for col in df.columns if 10 >= df[col].nunique() > 2]\n",
    "\n",
    "df2 = one_hot_encoder(df, cols)\n",
    "\n",
    "df2.head()"
   ]
  },
  {
   "cell_type": "code",
   "execution_count": 32,
   "id": "83a5ffb8",
   "metadata": {
    "execution": {
     "iopub.execute_input": "2024-10-30T16:31:02.255834Z",
     "iopub.status.busy": "2024-10-30T16:31:02.254323Z",
     "iopub.status.idle": "2024-10-30T16:31:02.314260Z",
     "shell.execute_reply": "2024-10-30T16:31:02.312823Z"
    },
    "papermill": {
     "duration": 0.084169,
     "end_time": "2024-10-30T16:31:02.317480",
     "exception": false,
     "start_time": "2024-10-30T16:31:02.233311",
     "status": "completed"
    },
    "tags": []
   },
   "outputs": [
    {
     "data": {
      "text/html": [
       "<div>\n",
       "<style scoped>\n",
       "    .dataframe tbody tr th:only-of-type {\n",
       "        vertical-align: middle;\n",
       "    }\n",
       "\n",
       "    .dataframe tbody tr th {\n",
       "        vertical-align: top;\n",
       "    }\n",
       "\n",
       "    .dataframe thead th {\n",
       "        text-align: right;\n",
       "    }\n",
       "</style>\n",
       "<table border=\"1\" class=\"dataframe\">\n",
       "  <thead>\n",
       "    <tr style=\"text-align: right;\">\n",
       "      <th></th>\n",
       "      <th>customerID</th>\n",
       "      <th>gender</th>\n",
       "      <th>SeniorCitizen</th>\n",
       "      <th>Partner</th>\n",
       "      <th>Dependents</th>\n",
       "      <th>tenure</th>\n",
       "      <th>PhoneService</th>\n",
       "      <th>PaperlessBilling</th>\n",
       "      <th>MonthlyCharges</th>\n",
       "      <th>TotalCharges</th>\n",
       "      <th>Churn</th>\n",
       "      <th>New_Avg_Charges</th>\n",
       "      <th>MultipleLines_No phone service</th>\n",
       "      <th>MultipleLines_Yes</th>\n",
       "      <th>InternetService_Fiber optic</th>\n",
       "      <th>InternetService_No</th>\n",
       "      <th>OnlineSecurity_No internet service</th>\n",
       "      <th>OnlineSecurity_Yes</th>\n",
       "      <th>OnlineBackup_No internet service</th>\n",
       "      <th>OnlineBackup_Yes</th>\n",
       "      <th>DeviceProtection_No internet service</th>\n",
       "      <th>DeviceProtection_Yes</th>\n",
       "      <th>TechSupport_No internet service</th>\n",
       "      <th>TechSupport_Yes</th>\n",
       "      <th>StreamingTV_No internet service</th>\n",
       "      <th>StreamingTV_Yes</th>\n",
       "      <th>StreamingMovies_No internet service</th>\n",
       "      <th>StreamingMovies_Yes</th>\n",
       "      <th>Contract_One year</th>\n",
       "      <th>Contract_Two year</th>\n",
       "      <th>PaymentMethod_Credit card (automatic)</th>\n",
       "      <th>PaymentMethod_Electronic check</th>\n",
       "      <th>PaymentMethod_Mailed check</th>\n",
       "      <th>New_Total_Services_1</th>\n",
       "      <th>New_Total_Services_2</th>\n",
       "      <th>New_Total_Services_3</th>\n",
       "      <th>New_Total_Services_4</th>\n",
       "      <th>New_Total_Services_5</th>\n",
       "      <th>New_Total_Services_6</th>\n",
       "      <th>New_Total_Services_7</th>\n",
       "      <th>New_Tenure_Year_1-2 Year</th>\n",
       "      <th>New_Tenure_Year_2-3 Year</th>\n",
       "      <th>New_Tenure_Year_3-4 Year</th>\n",
       "      <th>New_Tenure_Year_4-5 Year</th>\n",
       "      <th>New_Tenure_Year_5-6 Year</th>\n",
       "    </tr>\n",
       "  </thead>\n",
       "  <tbody>\n",
       "    <tr>\n",
       "      <th>0</th>\n",
       "      <td>7590-VHVEG</td>\n",
       "      <td>0</td>\n",
       "      <td>0</td>\n",
       "      <td>1</td>\n",
       "      <td>0</td>\n",
       "      <td>-0.609</td>\n",
       "      <td>0</td>\n",
       "      <td>1</td>\n",
       "      <td>-0.746</td>\n",
       "      <td>-0.403</td>\n",
       "      <td>0</td>\n",
       "      <td>-0.787</td>\n",
       "      <td>True</td>\n",
       "      <td>False</td>\n",
       "      <td>False</td>\n",
       "      <td>False</td>\n",
       "      <td>False</td>\n",
       "      <td>False</td>\n",
       "      <td>False</td>\n",
       "      <td>True</td>\n",
       "      <td>False</td>\n",
       "      <td>False</td>\n",
       "      <td>False</td>\n",
       "      <td>False</td>\n",
       "      <td>False</td>\n",
       "      <td>False</td>\n",
       "      <td>False</td>\n",
       "      <td>False</td>\n",
       "      <td>False</td>\n",
       "      <td>False</td>\n",
       "      <td>False</td>\n",
       "      <td>True</td>\n",
       "      <td>False</td>\n",
       "      <td>True</td>\n",
       "      <td>False</td>\n",
       "      <td>False</td>\n",
       "      <td>False</td>\n",
       "      <td>False</td>\n",
       "      <td>False</td>\n",
       "      <td>False</td>\n",
       "      <td>False</td>\n",
       "      <td>False</td>\n",
       "      <td>False</td>\n",
       "      <td>False</td>\n",
       "      <td>False</td>\n",
       "    </tr>\n",
       "    <tr>\n",
       "      <th>1</th>\n",
       "      <td>5575-GNVDE</td>\n",
       "      <td>1</td>\n",
       "      <td>0</td>\n",
       "      <td>0</td>\n",
       "      <td>0</td>\n",
       "      <td>0.109</td>\n",
       "      <td>1</td>\n",
       "      <td>0</td>\n",
       "      <td>-0.247</td>\n",
       "      <td>0.145</td>\n",
       "      <td>0</td>\n",
       "      <td>-0.121</td>\n",
       "      <td>False</td>\n",
       "      <td>False</td>\n",
       "      <td>False</td>\n",
       "      <td>False</td>\n",
       "      <td>False</td>\n",
       "      <td>True</td>\n",
       "      <td>False</td>\n",
       "      <td>False</td>\n",
       "      <td>False</td>\n",
       "      <td>True</td>\n",
       "      <td>False</td>\n",
       "      <td>False</td>\n",
       "      <td>False</td>\n",
       "      <td>False</td>\n",
       "      <td>False</td>\n",
       "      <td>False</td>\n",
       "      <td>True</td>\n",
       "      <td>False</td>\n",
       "      <td>False</td>\n",
       "      <td>False</td>\n",
       "      <td>True</td>\n",
       "      <td>False</td>\n",
       "      <td>False</td>\n",
       "      <td>True</td>\n",
       "      <td>False</td>\n",
       "      <td>False</td>\n",
       "      <td>False</td>\n",
       "      <td>False</td>\n",
       "      <td>False</td>\n",
       "      <td>True</td>\n",
       "      <td>False</td>\n",
       "      <td>False</td>\n",
       "      <td>False</td>\n",
       "    </tr>\n",
       "    <tr>\n",
       "      <th>2</th>\n",
       "      <td>3668-QPYBK</td>\n",
       "      <td>1</td>\n",
       "      <td>0</td>\n",
       "      <td>0</td>\n",
       "      <td>0</td>\n",
       "      <td>-0.587</td>\n",
       "      <td>1</td>\n",
       "      <td>1</td>\n",
       "      <td>-0.304</td>\n",
       "      <td>-0.380</td>\n",
       "      <td>1</td>\n",
       "      <td>-0.427</td>\n",
       "      <td>False</td>\n",
       "      <td>False</td>\n",
       "      <td>False</td>\n",
       "      <td>False</td>\n",
       "      <td>False</td>\n",
       "      <td>True</td>\n",
       "      <td>False</td>\n",
       "      <td>True</td>\n",
       "      <td>False</td>\n",
       "      <td>False</td>\n",
       "      <td>False</td>\n",
       "      <td>False</td>\n",
       "      <td>False</td>\n",
       "      <td>False</td>\n",
       "      <td>False</td>\n",
       "      <td>False</td>\n",
       "      <td>False</td>\n",
       "      <td>False</td>\n",
       "      <td>False</td>\n",
       "      <td>False</td>\n",
       "      <td>True</td>\n",
       "      <td>False</td>\n",
       "      <td>False</td>\n",
       "      <td>True</td>\n",
       "      <td>False</td>\n",
       "      <td>False</td>\n",
       "      <td>False</td>\n",
       "      <td>False</td>\n",
       "      <td>False</td>\n",
       "      <td>False</td>\n",
       "      <td>False</td>\n",
       "      <td>False</td>\n",
       "      <td>False</td>\n",
       "    </tr>\n",
       "    <tr>\n",
       "      <th>3</th>\n",
       "      <td>7795-CFOCW</td>\n",
       "      <td>1</td>\n",
       "      <td>0</td>\n",
       "      <td>0</td>\n",
       "      <td>0</td>\n",
       "      <td>0.348</td>\n",
       "      <td>0</td>\n",
       "      <td>0</td>\n",
       "      <td>-0.517</td>\n",
       "      <td>0.131</td>\n",
       "      <td>0</td>\n",
       "      <td>-0.359</td>\n",
       "      <td>True</td>\n",
       "      <td>False</td>\n",
       "      <td>False</td>\n",
       "      <td>False</td>\n",
       "      <td>False</td>\n",
       "      <td>True</td>\n",
       "      <td>False</td>\n",
       "      <td>False</td>\n",
       "      <td>False</td>\n",
       "      <td>True</td>\n",
       "      <td>False</td>\n",
       "      <td>True</td>\n",
       "      <td>False</td>\n",
       "      <td>False</td>\n",
       "      <td>False</td>\n",
       "      <td>False</td>\n",
       "      <td>True</td>\n",
       "      <td>False</td>\n",
       "      <td>False</td>\n",
       "      <td>False</td>\n",
       "      <td>False</td>\n",
       "      <td>False</td>\n",
       "      <td>False</td>\n",
       "      <td>True</td>\n",
       "      <td>False</td>\n",
       "      <td>False</td>\n",
       "      <td>False</td>\n",
       "      <td>False</td>\n",
       "      <td>False</td>\n",
       "      <td>False</td>\n",
       "      <td>True</td>\n",
       "      <td>False</td>\n",
       "      <td>False</td>\n",
       "    </tr>\n",
       "    <tr>\n",
       "      <th>4</th>\n",
       "      <td>9237-HQITU</td>\n",
       "      <td>0</td>\n",
       "      <td>0</td>\n",
       "      <td>0</td>\n",
       "      <td>0</td>\n",
       "      <td>-0.587</td>\n",
       "      <td>1</td>\n",
       "      <td>1</td>\n",
       "      <td>0.006</td>\n",
       "      <td>-0.367</td>\n",
       "      <td>1</td>\n",
       "      <td>-0.179</td>\n",
       "      <td>False</td>\n",
       "      <td>False</td>\n",
       "      <td>True</td>\n",
       "      <td>False</td>\n",
       "      <td>False</td>\n",
       "      <td>False</td>\n",
       "      <td>False</td>\n",
       "      <td>False</td>\n",
       "      <td>False</td>\n",
       "      <td>False</td>\n",
       "      <td>False</td>\n",
       "      <td>False</td>\n",
       "      <td>False</td>\n",
       "      <td>False</td>\n",
       "      <td>False</td>\n",
       "      <td>False</td>\n",
       "      <td>False</td>\n",
       "      <td>False</td>\n",
       "      <td>False</td>\n",
       "      <td>True</td>\n",
       "      <td>False</td>\n",
       "      <td>True</td>\n",
       "      <td>False</td>\n",
       "      <td>False</td>\n",
       "      <td>False</td>\n",
       "      <td>False</td>\n",
       "      <td>False</td>\n",
       "      <td>False</td>\n",
       "      <td>False</td>\n",
       "      <td>False</td>\n",
       "      <td>False</td>\n",
       "      <td>False</td>\n",
       "      <td>False</td>\n",
       "    </tr>\n",
       "  </tbody>\n",
       "</table>\n",
       "</div>"
      ],
      "text/plain": [
       "   customerID  gender  SeniorCitizen  Partner  Dependents  tenure  PhoneService  PaperlessBilling  MonthlyCharges  TotalCharges  Churn  New_Avg_Charges  MultipleLines_No phone service  MultipleLines_Yes  InternetService_Fiber optic  InternetService_No  OnlineSecurity_No internet service  OnlineSecurity_Yes  OnlineBackup_No internet service  OnlineBackup_Yes  DeviceProtection_No internet service  DeviceProtection_Yes  TechSupport_No internet service  TechSupport_Yes  \\\n",
       "0  7590-VHVEG       0              0        1           0  -0.609             0                 1          -0.746        -0.403      0           -0.787                            True              False                        False               False                               False               False                             False              True                                 False                 False                            False            False   \n",
       "1  5575-GNVDE       1              0        0           0   0.109             1                 0          -0.247         0.145      0           -0.121                           False              False                        False               False                               False                True                             False             False                                 False                  True                            False            False   \n",
       "2  3668-QPYBK       1              0        0           0  -0.587             1                 1          -0.304        -0.380      1           -0.427                           False              False                        False               False                               False                True                             False              True                                 False                 False                            False            False   \n",
       "3  7795-CFOCW       1              0        0           0   0.348             0                 0          -0.517         0.131      0           -0.359                            True              False                        False               False                               False                True                             False             False                                 False                  True                            False             True   \n",
       "4  9237-HQITU       0              0        0           0  -0.587             1                 1           0.006        -0.367      1           -0.179                           False              False                         True               False                               False               False                             False             False                                 False                 False                            False            False   \n",
       "\n",
       "   StreamingTV_No internet service  StreamingTV_Yes  StreamingMovies_No internet service  StreamingMovies_Yes  Contract_One year  Contract_Two year  PaymentMethod_Credit card (automatic)  PaymentMethod_Electronic check  PaymentMethod_Mailed check  New_Total_Services_1  New_Total_Services_2  New_Total_Services_3  New_Total_Services_4  New_Total_Services_5  New_Total_Services_6  New_Total_Services_7  New_Tenure_Year_1-2 Year  New_Tenure_Year_2-3 Year  New_Tenure_Year_3-4 Year  \\\n",
       "0                            False            False                                False                False              False              False                                  False                            True                       False                  True                 False                 False                 False                 False                 False                 False                     False                     False                     False   \n",
       "1                            False            False                                False                False               True              False                                  False                           False                        True                 False                 False                  True                 False                 False                 False                 False                     False                      True                     False   \n",
       "2                            False            False                                False                False              False              False                                  False                           False                        True                 False                 False                  True                 False                 False                 False                 False                     False                     False                     False   \n",
       "3                            False            False                                False                False               True              False                                  False                           False                       False                 False                 False                  True                 False                 False                 False                 False                     False                     False                      True   \n",
       "4                            False            False                                False                False              False              False                                  False                            True                       False                  True                 False                 False                 False                 False                 False                 False                     False                     False                     False   \n",
       "\n",
       "   New_Tenure_Year_4-5 Year  New_Tenure_Year_5-6 Year  \n",
       "0                     False                     False  \n",
       "1                     False                     False  \n",
       "2                     False                     False  \n",
       "3                     False                     False  \n",
       "4                     False                     False  "
      ]
     },
     "execution_count": 32,
     "metadata": {},
     "output_type": "execute_result"
    }
   ],
   "source": [
    "# Standardize for numeric variables\n",
    "\n",
    "for col in num_cols:\n",
    "    transformer = RobustScaler().fit(df2[[col]])\n",
    "    df2[col] = transformer.transform(df2[[col]])\n",
    "\n",
    "df2.head()"
   ]
  },
  {
   "cell_type": "markdown",
   "id": "017a1006",
   "metadata": {
    "papermill": {
     "duration": 0.020139,
     "end_time": "2024-10-30T16:31:02.358159",
     "exception": false,
     "start_time": "2024-10-30T16:31:02.338020",
     "status": "completed"
    },
    "tags": []
   },
   "source": [
    "##  <span style=\"color:#2D7680\"> 4. Modelling </span> <a class=\"anchor\" id=\"Mod\"></a> "
   ]
  },
  {
   "cell_type": "code",
   "execution_count": 33,
   "id": "081ae8e6",
   "metadata": {
    "execution": {
     "iopub.execute_input": "2024-10-30T16:31:02.402942Z",
     "iopub.status.busy": "2024-10-30T16:31:02.401731Z",
     "iopub.status.idle": "2024-10-30T16:31:02.411096Z",
     "shell.execute_reply": "2024-10-30T16:31:02.409767Z"
    },
    "papermill": {
     "duration": 0.0355,
     "end_time": "2024-10-30T16:31:02.414392",
     "exception": false,
     "start_time": "2024-10-30T16:31:02.378892",
     "status": "completed"
    },
    "tags": []
   },
   "outputs": [],
   "source": [
    "X = df2.drop([\"Churn\", \"customerID\"], axis=1)\n",
    "y = df2[\"Churn\"]"
   ]
  },
  {
   "cell_type": "code",
   "execution_count": 34,
   "id": "85781ee0",
   "metadata": {
    "execution": {
     "iopub.execute_input": "2024-10-30T16:31:02.459039Z",
     "iopub.status.busy": "2024-10-30T16:31:02.458537Z",
     "iopub.status.idle": "2024-10-30T16:31:02.474469Z",
     "shell.execute_reply": "2024-10-30T16:31:02.473108Z"
    },
    "papermill": {
     "duration": 0.041593,
     "end_time": "2024-10-30T16:31:02.477550",
     "exception": false,
     "start_time": "2024-10-30T16:31:02.435957",
     "status": "completed"
    },
    "tags": []
   },
   "outputs": [],
   "source": [
    "def base_models(X, y):\n",
    "    print(\"Base Models....\")\n",
    "    models = [('LR', LogisticRegression()),\n",
    "          (\"KNN\", KNeighborsClassifier()),\n",
    "          (\"CART\", DecisionTreeClassifier()),\n",
    "          (\"RF\", RandomForestClassifier()),\n",
    "          ('GBM', GradientBoostingClassifier()),\n",
    "          (\"XGBoost\", XGBClassifier(eval_metric='logloss')),\n",
    "          (\"LightGBM\", LGBMClassifier(verbose=-1)),\n",
    "          (\"CatBoost\", CatBoostClassifier(verbose=False))]\n",
    "    \n",
    "    for name, model in models:\n",
    "        cv_results = cross_validate(model, X, y, cv=10, scoring=[\"accuracy\", \"f1\", \"roc_auc\", \"precision\", \"recall\"])\n",
    "        print(f\"########## {name} ##########\")\n",
    "        print(f\"Accuracy: {round(cv_results['test_accuracy'].mean(), 4)}\")\n",
    "        print(f\"Auc: {round(cv_results['test_roc_auc'].mean(), 4)}\")\n",
    "        print(f\"Recall: {round(cv_results['test_recall'].mean(), 4)}\")\n",
    "        print(f\"Precision: {round(cv_results['test_precision'].mean(), 4)}\")\n",
    "        print(f\"F1: {round(cv_results['test_f1'].mean(), 4)}\")\n",
    "        \n",
    "def cv_results(x):\n",
    "\n",
    "    print(f\"Accuracy: {round(x['test_accuracy'].mean(), 4)}\")\n",
    "    print(f\"Auc: {round(x['test_roc_auc'].mean(), 4)}\")\n",
    "    print(f\"Recall: {round(x['test_recall'].mean(), 4)}\")\n",
    "    print(f\"Precision: {round(x['test_precision'].mean(), 4)}\")\n",
    "    print(f\"F1: {round(x['test_f1'].mean(), 4)}\")"
   ]
  },
  {
   "cell_type": "code",
   "execution_count": 35,
   "id": "b29180ff",
   "metadata": {
    "execution": {
     "iopub.execute_input": "2024-10-30T16:31:02.522559Z",
     "iopub.status.busy": "2024-10-30T16:31:02.521998Z",
     "iopub.status.idle": "2024-10-30T16:32:28.312194Z",
     "shell.execute_reply": "2024-10-30T16:32:28.310541Z"
    },
    "papermill": {
     "duration": 85.836369,
     "end_time": "2024-10-30T16:32:28.335257",
     "exception": false,
     "start_time": "2024-10-30T16:31:02.498888",
     "status": "completed"
    },
    "tags": []
   },
   "outputs": [
    {
     "name": "stdout",
     "output_type": "stream",
     "text": [
      "Base Models....\n",
      "########## LR ##########\n",
      "Accuracy: 0.8059\n",
      "Auc: 0.8482\n",
      "Recall: 0.5216\n",
      "Precision: 0.675\n",
      "F1: 0.5878\n",
      "########## KNN ##########\n",
      "Accuracy: 0.76\n",
      "Auc: 0.7741\n",
      "Recall: 0.5168\n",
      "Precision: 0.5518\n",
      "F1: 0.5336\n",
      "########## CART ##########\n",
      "Accuracy: 0.7315\n",
      "Auc: 0.6625\n",
      "Recall: 0.5099\n",
      "Precision: 0.4956\n",
      "F1: 0.5024\n",
      "########## RF ##########\n",
      "Accuracy: 0.7922\n",
      "Auc: 0.826\n",
      "Recall: 0.4917\n",
      "Precision: 0.6438\n",
      "F1: 0.5574\n",
      "########## GBM ##########\n",
      "Accuracy: 0.8003\n",
      "Auc: 0.8465\n",
      "Recall: 0.5136\n",
      "Precision: 0.6611\n",
      "F1: 0.5776\n",
      "########## XGBoost ##########\n",
      "Accuracy: 0.7801\n",
      "Auc: 0.8226\n",
      "Recall: 0.5035\n",
      "Precision: 0.6032\n",
      "F1: 0.5485\n",
      "########## LightGBM ##########\n",
      "Accuracy: 0.7962\n",
      "Auc: 0.8365\n",
      "Recall: 0.5275\n",
      "Precision: 0.6424\n",
      "F1: 0.5789\n",
      "########## CatBoost ##########\n",
      "Accuracy: 0.7988\n",
      "Auc: 0.8426\n",
      "Recall: 0.5142\n",
      "Precision: 0.6551\n",
      "F1: 0.5759\n"
     ]
    }
   ],
   "source": [
    "base_models(X, y)"
   ]
  },
  {
   "cell_type": "code",
   "execution_count": 36,
   "id": "343d8244",
   "metadata": {
    "execution": {
     "iopub.execute_input": "2024-10-30T16:32:28.380468Z",
     "iopub.status.busy": "2024-10-30T16:32:28.379210Z",
     "iopub.status.idle": "2024-10-30T16:33:26.984572Z",
     "shell.execute_reply": "2024-10-30T16:33:26.983232Z"
    },
    "papermill": {
     "duration": 58.631687,
     "end_time": "2024-10-30T16:33:26.987861",
     "exception": false,
     "start_time": "2024-10-30T16:32:28.356174",
     "status": "completed"
    },
    "tags": []
   },
   "outputs": [],
   "source": [
    "# Let's do hyperparameter optimization according to Catboost.\n",
    "\n",
    "catboost_model = CatBoostClassifier(random_state=17, verbose=False)\n",
    "catboost_params = {\"iterations\": [200, 500],\n",
    "                   \"learning_rate\": [0.01, 0.1],\n",
    "                   \"depth\": [3, 6]}\n",
    "catboost_grid = GridSearchCV(catboost_model, catboost_params, cv=5, n_jobs=-1, verbose=False).fit(X, y)\n",
    "catboost_final = catboost_model.set_params(**catboost_grid.best_params_, random_state=17).fit(X, y)"
   ]
  },
  {
   "cell_type": "code",
   "execution_count": 37,
   "id": "625d141c",
   "metadata": {
    "execution": {
     "iopub.execute_input": "2024-10-30T16:33:27.034565Z",
     "iopub.status.busy": "2024-10-30T16:33:27.034073Z",
     "iopub.status.idle": "2024-10-30T16:33:39.432611Z",
     "shell.execute_reply": "2024-10-30T16:33:39.431237Z"
    },
    "papermill": {
     "duration": 12.425271,
     "end_time": "2024-10-30T16:33:39.435907",
     "exception": false,
     "start_time": "2024-10-30T16:33:27.010636",
     "status": "completed"
    },
    "tags": []
   },
   "outputs": [],
   "source": [
    "# Final Model\n",
    "\n",
    "cv_results = cross_validate(catboost_final, X, y, cv=5, scoring=[\"accuracy\", \"f1\", \"roc_auc\", \"precision\",\"recall\"])"
   ]
  },
  {
   "cell_type": "code",
   "execution_count": 38,
   "id": "fa1a598b",
   "metadata": {
    "execution": {
     "iopub.execute_input": "2024-10-30T16:33:39.481225Z",
     "iopub.status.busy": "2024-10-30T16:33:39.480791Z",
     "iopub.status.idle": "2024-10-30T16:33:39.489162Z",
     "shell.execute_reply": "2024-10-30T16:33:39.487714Z"
    },
    "papermill": {
     "duration": 0.034614,
     "end_time": "2024-10-30T16:33:39.492176",
     "exception": false,
     "start_time": "2024-10-30T16:33:39.457562",
     "status": "completed"
    },
    "tags": []
   },
   "outputs": [
    {
     "name": "stdout",
     "output_type": "stream",
     "text": [
      "Accuracy: 0.8067\n",
      "Auc: 0.8477\n",
      "Recall: 0.5131\n",
      "Precision: 0.6814\n",
      "F1: 0.5853\n"
     ]
    }
   ],
   "source": [
    "# Let's look at our error metrics.\n",
    "\n",
    "print(f\"Accuracy: {round(cv_results['test_accuracy'].mean(), 4)}\")\n",
    "print(f\"Auc: {round(cv_results['test_roc_auc'].mean(), 4)}\")\n",
    "print(f\"Recall: {round(cv_results['test_recall'].mean(), 4)}\")\n",
    "print(f\"Precision: {round(cv_results['test_precision'].mean(), 4)}\")\n",
    "print(f\"F1: {round(cv_results['test_f1'].mean(), 4)}\")"
   ]
  }
 ],
 "metadata": {
  "kaggle": {
   "accelerator": "none",
   "dataSources": [
    {
     "datasetId": 5980464,
     "sourceId": 9765169,
     "sourceType": "datasetVersion"
    }
   ],
   "dockerImageVersionId": 30786,
   "isGpuEnabled": false,
   "isInternetEnabled": true,
   "language": "python",
   "sourceType": "notebook"
  },
  "kernelspec": {
   "display_name": "Python 3",
   "language": "python",
   "name": "python3"
  },
  "language_info": {
   "codemirror_mode": {
    "name": "ipython",
    "version": 3
   },
   "file_extension": ".py",
   "mimetype": "text/x-python",
   "name": "python",
   "nbconvert_exporter": "python",
   "pygments_lexer": "ipython3",
   "version": "3.10.14"
  },
  "papermill": {
   "default_parameters": {},
   "duration": 168.119336,
   "end_time": "2024-10-30T16:33:40.338900",
   "environment_variables": {},
   "exception": null,
   "input_path": "__notebook__.ipynb",
   "output_path": "__notebook__.ipynb",
   "parameters": {},
   "start_time": "2024-10-30T16:30:52.219564",
   "version": "2.6.0"
  }
 },
 "nbformat": 4,
 "nbformat_minor": 5
}
